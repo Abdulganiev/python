{
 "cells": [
  {
   "cell_type": "markdown",
   "id": "7d30962b",
   "metadata": {
    "toc": true
   },
   "source": [
    "<h1>Table of Contents<span class=\"tocSkip\"></span></h1>\n",
    "<div class=\"toc\"><ul class=\"toc-item\"></ul></div>"
   ]
  },
  {
   "cell_type": "code",
   "execution_count": 2,
   "id": "d6bd9900",
   "metadata": {},
   "outputs": [],
   "source": [
    "# from fun_forma import *"
   ]
  },
  {
   "cell_type": "code",
   "execution_count": 1,
   "id": "2e3db69f",
   "metadata": {},
   "outputs": [],
   "source": [
    "import pyautogui as pag\n",
    "import pyperclip\n",
    "from time import sleep\n",
    "import pandas as pd"
   ]
  },
  {
   "cell_type": "code",
   "execution_count": 46,
   "id": "cdf60e80",
   "metadata": {},
   "outputs": [
    {
     "name": "stdout",
     "output_type": "stream",
     "text": [
      "Point(x=258, y=628)\n"
     ]
    }
   ],
   "source": [
    "okno()\n",
    "print(pag.position())"
   ]
  },
  {
   "cell_type": "code",
   "execution_count": 2,
   "id": "2f828cb6",
   "metadata": {},
   "outputs": [],
   "source": [
    "def start_check():\n",
    "    pag.moveTo(918, 469, 1.5)\n",
    "    pag.click()\n",
    "    pag.press('end')\n",
    "    pag.keyDown(\"shiftleft\") \n",
    "    pag.press(\"home\")\n",
    "    pag.keyUp(\"shiftleft\")\n",
    "    pag.press('del')\n",
    "    past('01.01.2005')\n",
    "    pag.press(\"enter\")\n",
    "    \n",
    "    pag.moveTo(586, 388, 1.5)\n",
    "    pag.click()\n",
    "    pag.moveTo(568, 472, 1.5)\n",
    "    pag.click()\n",
    "    \n",
    "def snils(text):\n",
    "    pag.moveTo(269, 387, 1.5)\n",
    "    pag.click()\n",
    "    pag.press('end')\n",
    "    pag.keyDown(\"shiftleft\") \n",
    "    pag.press(\"home\")\n",
    "    pag.keyUp(\"shiftleft\")\n",
    "    pag.press('del')\n",
    "    past(text)\n",
    "    pag.press(\"enter\")\n",
    "    sleep(6)\n",
    "    \n",
    "\n",
    "def check_fakt():\n",
    "    pag.moveTo(258, 628, 1)\n",
    "    pag.doubleClick()\n",
    "    pag.hotkey('ctrl', 'c')\n",
    "    if len(pyperclip.paste()) > 1:\n",
    "        return 1\n",
    "    return 0\n",
    "\n",
    "def okno():\n",
    "# '''функция переключения на другое окно'''\n",
    "    pag.keyDown(\"altleft\")\n",
    "    pag.press(\"tab\")\n",
    "    pag.keyUp(\"altleft\")\n",
    "    pag.press(\"enter\")\n",
    "    \n",
    "def past(text):\n",
    "    pyperclip.copy(text)\n",
    "    pag.hotkey('ctrl', 'v')"
   ]
  },
  {
   "cell_type": "code",
   "execution_count": 66,
   "id": "5451781f",
   "metadata": {},
   "outputs": [
    {
     "name": "stdout",
     "output_type": "stream",
     "text": [
      "0\n",
      "1\n",
      "0\n"
     ]
    }
   ],
   "source": [
    "okno()\n",
    "start_check()\n",
    "\n",
    "t = {'060-224-604 07', '143-608-990 74', '143-824-040 43'}\n",
    "\n",
    "for text in t:\n",
    "    snils(text)\n",
    "    print(check_fakt())\n",
    "    "
   ]
  },
  {
   "cell_type": "code",
   "execution_count": 62,
   "id": "3cbf9546",
   "metadata": {},
   "outputs": [
    {
     "name": "stdout",
     "output_type": "stream",
     "text": [
      "1\n"
     ]
    }
   ],
   "source": [
    "okno()\n",
    "check_fakt()"
   ]
  },
  {
   "cell_type": "code",
   "execution_count": 92,
   "id": "775eb701",
   "metadata": {},
   "outputs": [],
   "source": [
    "deti = pd.read_excel('deti_out.xlsx')"
   ]
  },
  {
   "cell_type": "code",
   "execution_count": 93,
   "id": "5de70737",
   "metadata": {},
   "outputs": [
    {
     "data": {
      "text/html": [
       "<div>\n",
       "<style scoped>\n",
       "    .dataframe tbody tr th:only-of-type {\n",
       "        vertical-align: middle;\n",
       "    }\n",
       "\n",
       "    .dataframe tbody tr th {\n",
       "        vertical-align: top;\n",
       "    }\n",
       "\n",
       "    .dataframe thead th {\n",
       "        text-align: right;\n",
       "    }\n",
       "</style>\n",
       "<table border=\"1\" class=\"dataframe\">\n",
       "  <thead>\n",
       "    <tr style=\"text-align: right;\">\n",
       "      <th></th>\n",
       "      <th>ID</th>\n",
       "      <th>SNILS</th>\n",
       "      <th>DSC</th>\n",
       "      <th>CH</th>\n",
       "    </tr>\n",
       "  </thead>\n",
       "  <tbody>\n",
       "    <tr>\n",
       "      <th>0</th>\n",
       "      <td>61-96527</td>\n",
       "      <td>061-821-162 33</td>\n",
       "      <td>Сэротэтто Матвей Олегович, род. 17.04.2017</td>\n",
       "      <td>0.0</td>\n",
       "    </tr>\n",
       "    <tr>\n",
       "      <th>1</th>\n",
       "      <td>61-7793</td>\n",
       "      <td>134-327-835 51</td>\n",
       "      <td>Кондыгина Марина Михайловна, род. 05.02.2005</td>\n",
       "      <td>0.0</td>\n",
       "    </tr>\n",
       "    <tr>\n",
       "      <th>2</th>\n",
       "      <td>61-5235</td>\n",
       "      <td>134-327-836 52</td>\n",
       "      <td>Тайбери Валентина Александровна, род. 24.09.2004</td>\n",
       "      <td>0.0</td>\n",
       "    </tr>\n",
       "    <tr>\n",
       "      <th>3</th>\n",
       "      <td>60-1108</td>\n",
       "      <td>135-755-262 74</td>\n",
       "      <td>Ного Яна Георгиевна, род. 24.11.2004</td>\n",
       "      <td>0.0</td>\n",
       "    </tr>\n",
       "    <tr>\n",
       "      <th>4</th>\n",
       "      <td>68-12646</td>\n",
       "      <td>137-410-878 56</td>\n",
       "      <td>Вэнго Роман Алексеевич, род. 14.04.2005</td>\n",
       "      <td>0.0</td>\n",
       "    </tr>\n",
       "  </tbody>\n",
       "</table>\n",
       "</div>"
      ],
      "text/plain": [
       "         ID           SNILS                                               DSC  \\\n",
       "0  61-96527  061-821-162 33        Сэротэтто Матвей Олегович, род. 17.04.2017   \n",
       "1   61-7793  134-327-835 51      Кондыгина Марина Михайловна, род. 05.02.2005   \n",
       "2   61-5235  134-327-836 52  Тайбери Валентина Александровна, род. 24.09.2004   \n",
       "3   60-1108  135-755-262 74              Ного Яна Георгиевна, род. 24.11.2004   \n",
       "4  68-12646  137-410-878 56           Вэнго Роман Алексеевич, род. 14.04.2005   \n",
       "\n",
       "    CH  \n",
       "0  0.0  \n",
       "1  0.0  \n",
       "2  0.0  \n",
       "3  0.0  \n",
       "4  0.0  "
      ]
     },
     "execution_count": 93,
     "metadata": {},
     "output_type": "execute_result"
    }
   ],
   "source": [
    "deti.head()"
   ]
  },
  {
   "cell_type": "code",
   "execution_count": 94,
   "id": "c7b30cb8",
   "metadata": {},
   "outputs": [
    {
     "name": "stderr",
     "output_type": "stream",
     "text": [
      "<ipython-input-94-6f4319f34bbc>:8: SettingWithCopyWarning: \n",
      "A value is trying to be set on a copy of a slice from a DataFrame\n",
      "\n",
      "See the caveats in the documentation: https://pandas.pydata.org/pandas-docs/stable/user_guide/indexing.html#returning-a-view-versus-a-copy\n",
      "  deti['CH'][c] = v\n"
     ]
    }
   ],
   "source": [
    "okno()\n",
    "c = 0\n",
    "start_check()\n",
    "for row in deti.itertuples(index=False):\n",
    "    if row[3] != 1 and row[3] != 0:\n",
    "        snils(row[1])\n",
    "        v = check_fakt()\n",
    "        deti['CH'][c] = v\n",
    "    c += 1"
   ]
  },
  {
   "cell_type": "code",
   "execution_count": 76,
   "id": "06f2016d",
   "metadata": {},
   "outputs": [],
   "source": [
    "c = 0\n",
    "for row in deti.itertuples(index=False):\n",
    "    if row[3] != 1 and row[3] != 0:\n",
    "        print(row[1])\n",
    "#     v = check_fakt()\n",
    "#     print(v)\n",
    "#     row[3] = v\n",
    "#     deti['CH'][c] = 1\n",
    "    c += 1\n",
    "    break\n"
   ]
  },
  {
   "cell_type": "code",
   "execution_count": 96,
   "id": "ec84f1dd",
   "metadata": {},
   "outputs": [],
   "source": [
    "deti_copy = deti.copy()"
   ]
  },
  {
   "cell_type": "code",
   "execution_count": 97,
   "id": "e194b2cf",
   "metadata": {},
   "outputs": [],
   "source": [
    "deti_copy.to_excel('deti_out.xlsx')"
   ]
  },
  {
   "cell_type": "code",
   "execution_count": null,
   "id": "ffe5bf57",
   "metadata": {},
   "outputs": [],
   "source": []
  }
 ],
 "metadata": {
  "kernelspec": {
   "display_name": "Python 3",
   "language": "python",
   "name": "python3"
  },
  "language_info": {
   "codemirror_mode": {
    "name": "ipython",
    "version": 3
   },
   "file_extension": ".py",
   "mimetype": "text/x-python",
   "name": "python",
   "nbconvert_exporter": "python",
   "pygments_lexer": "ipython3",
   "version": "3.8.8"
  },
  "toc": {
   "base_numbering": 1,
   "nav_menu": {},
   "number_sections": true,
   "sideBar": true,
   "skip_h1_title": false,
   "title_cell": "Table of Contents",
   "title_sidebar": "Contents",
   "toc_cell": true,
   "toc_position": {
    "height": "calc(100% - 180px)",
    "left": "10px",
    "top": "150px",
    "width": "165px"
   },
   "toc_section_display": true,
   "toc_window_display": true
  },
  "varInspector": {
   "cols": {
    "lenName": 16,
    "lenType": 16,
    "lenVar": 40
   },
   "kernels_config": {
    "python": {
     "delete_cmd_postfix": "",
     "delete_cmd_prefix": "del ",
     "library": "var_list.py",
     "varRefreshCmd": "print(var_dic_list())"
    },
    "r": {
     "delete_cmd_postfix": ") ",
     "delete_cmd_prefix": "rm(",
     "library": "var_list.r",
     "varRefreshCmd": "cat(var_dic_list()) "
    }
   },
   "types_to_exclude": [
    "module",
    "function",
    "builtin_function_or_method",
    "instance",
    "_Feature"
   ],
   "window_display": false
  }
 },
 "nbformat": 4,
 "nbformat_minor": 5
}
