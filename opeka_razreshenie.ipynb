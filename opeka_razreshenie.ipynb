{
 "cells": [
  {
   "cell_type": "markdown",
   "id": "e2b2fcf0",
   "metadata": {
    "toc": true
   },
   "source": [
    "<h1>Table of Contents<span class=\"tocSkip\"></span></h1>\n",
    "<div class=\"toc\"><ul class=\"toc-item\"></ul></div>"
   ]
  },
  {
   "cell_type": "code",
   "execution_count": 1,
   "id": "87143e2b",
   "metadata": {},
   "outputs": [],
   "source": [
    "from keyboard import press_and_release\n",
    "from time import sleep\n",
    "import pyperclip\n",
    "import pyautogui as pag\n"
   ]
  },
  {
   "cell_type": "code",
   "execution_count": 77,
   "id": "aa86b3b5",
   "metadata": {
    "code_folding": []
   },
   "outputs": [],
   "source": [
    "def paste(text: str):    \n",
    "    pyperclip.copy(text)\n",
    "    press_and_release('ctrl + v')\n",
    "\n",
    "\n",
    "def type(text: str, interval=0.0):    \n",
    "    buffer = pyperclip.paste()\n",
    "    if not interval:\n",
    "        paste(text)\n",
    "    else:\n",
    "        for char in text:\n",
    "            paste(char)\n",
    "            sleep(interval)\n",
    "    pyperclip.copy(buffer)\n",
    "    \n",
    "    \n",
    "def okno():    \n",
    "#     pag.hotkey('altleft', 'tab')\n",
    "    pag.keyDown(\"altleft\")\n",
    "    pag.press(\"tab\")\n",
    "    pag.keyUp(\"altleft\")\n",
    "    pag.press(\"enter\")\n",
    "\n",
    "def hom(text, o):\n",
    "    pag.press(\"home\")\n",
    "    pag.moveTo(1200, 340, 3)\n",
    "    pag.click()\n",
    "    pag.moveTo(590, 385, 3)\n",
    "    pag.click()\n",
    "\n",
    "#     type(text, 0.1)\n",
    "    past(text)\n",
    "    pag.press(\"esc\")\n",
    "\n",
    "    if o == 1: # обязательный или нет\n",
    "        pag.moveTo(580, 480, 0.5)\n",
    "        pag.click()\n",
    "    else:\n",
    "        pag.moveTo(1200, 490, 0.5)\n",
    "        pag.click()\n",
    "    \n",
    "    pag.press(\"end\")\n",
    "    \n",
    "    pag.moveTo(580, 490, 0.5)\n",
    "    pag.click()\n",
    "    \n",
    "def gu_str(text, o):\n",
    "    hom(text, o)\n",
    "    type('11', 1.5)\n",
    "    pag.press(\"enter\")\n",
    "    pag.moveTo(565, 775, 0.5)\n",
    "    pag.click()\n",
    "    pag.press('enter')\n",
    "    \n",
    "def gu_dat(text, o):\n",
    "    hom(text, o)\n",
    "    type('3', 1.5)\n",
    "    pag.press(\"enter\")\n",
    "    pag.press('enter')\n",
    "    \n",
    "def gu_mail(text, o):\n",
    "    hom(text, o)\n",
    "    type('1', 1.5)\n",
    "    pag.press(\"enter\")\n",
    "    pag.press('enter')\n",
    "    \n",
    "def gu_com(text, o):\n",
    "    hom(text,  0)\n",
    "    type('12', 1.5)\n",
    "    pag.press(\"enter\")\n",
    "    pag.press('enter')\n",
    "    \n",
    "def gu_mesto(text, o):\n",
    "    hom(text,  o)\n",
    "    text2 = 'указываются на основании записи в документе, удостоверяющем личность, или ином документе, подтверждающем постоянное проживание заявителя на территории Ямало-Ненецкого автономного округа'\n",
    "    pag.moveTo(565, 450, 0.5)\n",
    "    pag.click()\n",
    "#     type(text2, 0.1)\n",
    "    past(text2)\n",
    "\n",
    "    pag.moveTo(580, 490, 0.5)\n",
    "    pag.click()\n",
    "    type('11', 1.5)\n",
    "    pag.press(\"enter\")\n",
    "    pag.moveTo(565, 775, 0.5)\n",
    "    pag.click()\n",
    "    pag.press('enter')\n",
    "    \n",
    "def sogl(text):\n",
    "    hom(text,  1)\n",
    "    type('6', 1.5)\n",
    "    pag.press(\"enter\")\n",
    "    pag.moveTo(565, 560, 0.5)\n",
    "    pag.click()\n",
    "    pag.moveTo(565, 595, 0.5)\n",
    "    pag.click()\n",
    "    type('Да', 0.5)\n",
    "    pag.press(\"enter\")    "
   ]
  },
  {
   "cell_type": "code",
   "execution_count": 78,
   "id": "213856f7",
   "metadata": {},
   "outputs": [],
   "source": [
    "def opek1():\n",
    "    text = 'Прошу'\n",
    "    hom(text,  1)\n",
    "    t1 = 'передать мне под опеку (попечительство)'\n",
    "    t2 = 'передать мне под опеку (попечительство) на возмездной основе'\n",
    "    type('6', 1)\n",
    "    pag.press(\"enter\")\n",
    "    pag.moveTo(565, 560, 0.5)\n",
    "    pag.click()\n",
    "    pag.moveTo(565, 595, 0.5)\n",
    "    pag.click()\n",
    "    past(t1)\n",
    "    pag.press(\"esc\")\n",
    "    \n",
    "    pag.moveTo(565, 705, 0.5)\n",
    "    pag.click()        \n",
    "    pag.moveTo(565, 745, 0.5)\n",
    "    pag.click()\n",
    "    past(t2)\n",
    "    pag.press(\"enter\")"
   ]
  },
  {
   "cell_type": "code",
   "execution_count": 79,
   "id": "a6790260",
   "metadata": {},
   "outputs": [],
   "source": [
    "def opek2():\n",
    "    text = 'Дополнительно могу сообщить о себе следующее'\n",
    "    t = 'указывается наличие у гражданина необходимых знаний и навыков в осуществлении опеки (попечительства) над совершеннолетним недееспособным или не полностью дееспособным гражданином, в том числе информация о наличии документов о профессиональной деятельности, о прохождении программ подготовки кандидатов в опекуны или попечители и т.д.'\n",
    "    hom(text,  1)\n",
    "    \n",
    "    pag.moveTo(565, 165, 0.5)\n",
    "    pag.click()\n",
    "#     type(t, 0.1)\n",
    "    past(t)\n",
    "    pag.press(\"esc\")\n",
    "    \n",
    "    pag.moveTo(565, 500, 0.5)\n",
    "    pag.click()\n",
    "    type('9', 1.5)\n",
    "    pag.press(\"enter\")\n",
    "    pag.press(\"enter\")"
   ]
  },
  {
   "cell_type": "code",
   "execution_count": null,
   "id": "73524aa3",
   "metadata": {},
   "outputs": [],
   "source": []
  },
  {
   "cell_type": "code",
   "execution_count": 80,
   "id": "1404ccbc",
   "metadata": {},
   "outputs": [],
   "source": [
    "def past(text):\n",
    "    pyperclip.copy(text)\n",
    "    pag.hotkey('ctrl', 'v')\n",
    "    \n",
    "def zayav():\n",
    "    pag.moveTo(1269, 327, 0.5)\n",
    "    pag.click()\n",
    "    sleep(4)\n",
    "    pag.press(\"end\")\n",
    "    pag.moveTo(617, 294, 2.5)\n",
    "    pag.click()\n",
    "    pag.moveTo(1246, 349, 2.5)\n",
    "    pag.click()\n",
    "    pag.moveTo(557, 393, 2.5)\n",
    "    pag.click()\n",
    "    text = 'Данные заявления'\n",
    "    past(text)\n",
    "    pag.press(\"enter\")\n",
    "    pag.moveTo(1244, 413, 2.5)\n",
    "    pag.click()"
   ]
  },
  {
   "cell_type": "code",
   "execution_count": 91,
   "id": "1aca07a7",
   "metadata": {},
   "outputs": [],
   "source": [
    "pag.FAILSAFE = True\n",
    "okno()\n",
    "\n",
    "zayav()\n",
    "\n",
    "gu_mesto('Сведения о месте жительства', 1)\n",
    "gu_str('Контактный телефон', 1)\n",
    "gu_mail('Адрес электронной почты', 1)\n",
    "gu_dat('Дата рождения заявителя', 1)\n",
    "gu_com('Сведения о документе, удостоверяющем личность :', 0)\n",
    "gu_str('Наименование документа, удостоверяющего личность', 1)\n",
    "gu_str('Серия и номер', 1)\n",
    "gu_str('Кем выдан', 1)\n",
    "gu_dat('Когда выдан', 1)\n",
    "gu_str('Код подразделения', 1)\n",
    "gu_str('Страховой номер индивидуального лицевого счета (СНИЛС)', 1)\n",
    "\n",
    "gu_com('Сведения о подопечном', 0)\n",
    "gu_str('Фамилия, имя, отчество', 1)\n",
    "gu_mesto('Сведения о месте жительства', 1)\n",
    "gu_dat('Дата рождения', 1)\n",
    "gu_com('Сведения о документе, удостоверяющем личность :', 0)\n",
    "gu_str('Наименование документа, удостоверяющего личность', 1)\n",
    "gu_str('Серия и номер', 1)\n",
    "gu_str('Кем выдан', 1)\n",
    "gu_dat('Когда выдан', 1)\n",
    "gu_str('Код подразделения', 1)\n",
    "gu_str('Страховой номер индивидуального лицевого счета (СНИЛС)', 1)\n",
    "\n",
    "gu_str('Сведения об акте органа опеки и попечительства об установлении опеки (попечительства)', 1)\n",
    "gu_com('Прошу выдать предварительное разрешение на осуществление', 0)\n",
    "gu_str('вид сделки', 1)\n",
    "gu_str('в целях', 1)\n",
    "\n",
    "sogl('Обязуюсь представить в срок, указанный в предварительном разрешении, документы, подтверждающие совершение сделки и исполнение обязательных указаний (условий), указанных в предварительном разрешении (правоустанавливающие документы на приобретенное недвижимое или движимое имущество, принадлежащее подопечному на праве собственности (в том числе долевой, общей совместной); документ, подтверждающий наличие средств на лицевом счете подопечного, полученных от отчуждения недвижимого или движимого имущества, принадлежащего подопечному на праве собственности (в том числе долевой, общей совместной); отказ от наследства; иные документы, подтверждающие совершение сделки')\n",
    "sogl('Достоверность представленных сведений, указанных в заявлении о выдаче предварительного разрешения на осуществление сделки с имуществом совершеннолетнего недееспособного/ограниченно дееспособного гражданина, подтверждаю')\n",
    "sogl('Об ответственности за недостоверность представленных сведений проинформирован')\n",
    "\n",
    "\n",
    "# opek1()\n",
    "# text = 'Материальные возможности, жилищные условия, состояние здоровья и характер работы позволяют мне взять совершеннолетнего недееспособного или не полностью дееспособного гражданина под опеку (попечительство)'\n",
    "# sogl(text)\n",
    "\n",
    "# opek2()\n",
    "# sogl('Даю согласие на обработку и использование моих персональных данных, содержащихся в настоящем заявлении и в представленных мною документах')\n",
    "# sogl('Достоверность представленных сведений, указанных в заявлении, подтверждаю')\n",
    "# sogl('Об ответственности за достоверность представленных сведений проинформирован')"
   ]
  },
  {
   "cell_type": "code",
   "execution_count": 68,
   "id": "9e0bb866",
   "metadata": {},
   "outputs": [
    {
     "name": "stdout",
     "output_type": "stream",
     "text": [
      "Point(x=1244, y=413)\n"
     ]
    }
   ],
   "source": [
    "okno()\n",
    "print(pag.position())"
   ]
  },
  {
   "cell_type": "code",
   "execution_count": 31,
   "id": "0d0699f9",
   "metadata": {},
   "outputs": [],
   "source": []
  }
 ],
 "metadata": {
  "kernelspec": {
   "display_name": "Python 3",
   "language": "python",
   "name": "python3"
  },
  "language_info": {
   "codemirror_mode": {
    "name": "ipython",
    "version": 3
   },
   "file_extension": ".py",
   "mimetype": "text/x-python",
   "name": "python",
   "nbconvert_exporter": "python",
   "pygments_lexer": "ipython3",
   "version": "3.8.8"
  },
  "toc": {
   "base_numbering": 1,
   "nav_menu": {},
   "number_sections": true,
   "sideBar": true,
   "skip_h1_title": false,
   "title_cell": "Table of Contents",
   "title_sidebar": "Contents",
   "toc_cell": true,
   "toc_position": {
    "height": "calc(100% - 180px)",
    "left": "10px",
    "top": "150px",
    "width": "165px"
   },
   "toc_section_display": true,
   "toc_window_display": true
  },
  "varInspector": {
   "cols": {
    "lenName": 16,
    "lenType": 16,
    "lenVar": 40
   },
   "kernels_config": {
    "python": {
     "delete_cmd_postfix": "",
     "delete_cmd_prefix": "del ",
     "library": "var_list.py",
     "varRefreshCmd": "print(var_dic_list())"
    },
    "r": {
     "delete_cmd_postfix": ") ",
     "delete_cmd_prefix": "rm(",
     "library": "var_list.r",
     "varRefreshCmd": "cat(var_dic_list()) "
    }
   },
   "types_to_exclude": [
    "module",
    "function",
    "builtin_function_or_method",
    "instance",
    "_Feature"
   ],
   "window_display": false
  }
 },
 "nbformat": 4,
 "nbformat_minor": 5
}
