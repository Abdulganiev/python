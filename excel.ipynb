{
 "cells": [
  {
   "cell_type": "markdown",
   "id": "af2e5b2f",
   "metadata": {
    "toc": true
   },
   "source": [
    "<h1>Table of Contents<span class=\"tocSkip\"></span></h1>\n",
    "<div class=\"toc\"><ul class=\"toc-item\"></ul></div>"
   ]
  },
  {
   "cell_type": "code",
   "execution_count": null,
   "id": "bae897f1",
   "metadata": {},
   "outputs": [],
   "source": [
    "from openpyxl import load_workbook\n",
    "from openpyxl.styles import Alignment, Border, Side, Font"
   ]
  },
  {
   "cell_type": "code",
   "execution_count": 128,
   "id": "39677ee4",
   "metadata": {},
   "outputs": [],
   "source": [
    "def format_GKV(file):\n",
    "    style_g = 'thin'\n",
    "    # определим стили сторон\n",
    "    b_left=Side(border_style=style_g, color='FF000000')\n",
    "    b_right=Side(border_style=style_g, color='FF000000')\n",
    "    b_top=Side(border_style=style_g, color='FF000000')\n",
    "    b_bottom=Side(border_style=style_g, color='FF000000')\n",
    "    b_diagonal=Side(border_style=None, color='FF000000')\n",
    "    b_diagonal_direction=0\n",
    "    b_outline=Side(border_style=None, color='FF000000')\n",
    "    b_vertical=Side(border_style=None, color='FF000000')\n",
    "    b_horizontal=Side(border_style=None, color='FF000000')\n",
    "\n",
    "    wb = load_workbook(file)\n",
    "\n",
    "    for sh in wb.sheetnames:\n",
    "        sheet = wb[sh]\n",
    "        for row in sheet.iter_rows():\n",
    "            for cell in row:\n",
    "        #         выравнивание текста во всех ячейках\n",
    "                cell.alignment = Alignment(wrap_text=True, horizontal='center', vertical='center')\n",
    "        #         рисуем границы\n",
    "                cell.border = Border(top=b_top, bottom=b_bottom, left=b_left, right=b_right)\n",
    "\n",
    "        for i in range(1, 54):\n",
    "            sheet[f'B{i}'].alignment = Alignment(wrap_text=True, horizontal='left')\n",
    "\n",
    "        list_heading = ['B1', 'B2', 'B15', 'B19', 'B26', 'B37', 'B45', 'B50']\n",
    "        for ceil in list_heading: # выравнивание текста в определенных ячейках\n",
    "            sheet[ceil].alignment = Alignment(horizontal='center', vertical='center')\n",
    "            sheet[ceil].font = Font(bold=True)\n",
    "\n",
    "        list_itog = ['B14', 'B18', 'B25', 'B36', 'B44', 'B49', 'B52', 'B53']\n",
    "        for ceil in list_itog: # выравнивание текста в определенных ячейках\n",
    "            sheet[ceil].alignment = Alignment(horizontal='right', vertical='center')\n",
    "\n",
    "        list_rovno = ['B2:E2', 'B15:E15', 'B19:E19', 'B26:E26', 'B37:E37', 'B45:E45', 'B50:E50']\n",
    "        for ceil in list_rovno: # объедение ячеек\n",
    "            sheet.merge_cells(ceil)\n",
    "\n",
    "        width_stolb = {'B' : 120, 'C' : 40, 'D' : 20, 'E' : 20}\n",
    "        for key, value in width_stolb.items(): # ширина столбцов\n",
    "            sheet.column_dimensions[key].width = value\n",
    "\n",
    "        list_formula = ['C', 'D', 'E']\n",
    "        for ceil in list_formula:\n",
    "            sheet[f'{ceil}14'] = f'=SUM({ceil}3:{ceil}12)'\n",
    "            sheet[f'{ceil}13'] = f'=SUM({ceil}9:{ceil}11)'\n",
    "            sheet[f'{ceil}18'] = f'=SUM({ceil}16:{ceil}17)'\n",
    "            sheet[f'{ceil}20'] = f'=SUM({ceil}21:{ceil}23)'\n",
    "            sheet[f'{ceil}25'] = f'=SUM({ceil}21:{ceil}24)'\n",
    "            sheet[f'{ceil}36'] = f'=SUM({ceil}27:{ceil}35)'\n",
    "            sheet[f'{ceil}44'] = f'=SUM({ceil}38:{ceil}43)'\n",
    "            sheet[f'{ceil}49'] = f'=SUM({ceil}46:{ceil}48)'\n",
    "            sheet[f'{ceil}52'] = f'={ceil}51'\n",
    "            sheet[f'{ceil}53'] = f'={ceil}14+{ceil}18+{ceil}25+{ceil}36+{ceil}44+{ceil}49+{ceil}52'\n",
    "\n",
    "    wb.save(file)"
   ]
  },
  {
   "cell_type": "code",
   "execution_count": 152,
   "id": "23ae486d",
   "metadata": {},
   "outputs": [],
   "source": [
    "def format_GKV_104(file):\n",
    "    sh = '104'\n",
    "    wb = load_workbook(file)\n",
    "    sheet = wb[sh]\n",
    "    list_formula = ['C', 'D', 'E']\n",
    "    list_not = [13, 14, 15, 18, 19, 20, 25, 26, 36, 37, 44, 45, 49, 50, 52, 53]\n",
    "    for ceil in list_formula:\n",
    "        for i in range(3, 54):\n",
    "            if list_not.count(i) == 0:\n",
    "                sheet[f'{ceil}{i}'] = f\"=SUM('58:70'!{ceil}{i})\"\n",
    "    wb.save(file)"
   ]
  },
  {
   "cell_type": "code",
   "execution_count": 153,
   "id": "47b22925",
   "metadata": {},
   "outputs": [],
   "source": [
    "format_GKV_104('2022-10-16 - отчет ЖКВ за 3 кв 2022.xlsx')"
   ]
  },
  {
   "cell_type": "code",
   "execution_count": null,
   "id": "acce0aec",
   "metadata": {},
   "outputs": [],
   "source": []
  },
  {
   "cell_type": "code",
   "execution_count": null,
   "id": "4de53e4f",
   "metadata": {},
   "outputs": [],
   "source": []
  }
 ],
 "metadata": {
  "kernelspec": {
   "display_name": "Python 3",
   "language": "python",
   "name": "python3"
  },
  "language_info": {
   "codemirror_mode": {
    "name": "ipython",
    "version": 3
   },
   "file_extension": ".py",
   "mimetype": "text/x-python",
   "name": "python",
   "nbconvert_exporter": "python",
   "pygments_lexer": "ipython3",
   "version": "3.8.8"
  },
  "toc": {
   "base_numbering": 1,
   "nav_menu": {},
   "number_sections": true,
   "sideBar": true,
   "skip_h1_title": false,
   "title_cell": "Table of Contents",
   "title_sidebar": "Contents",
   "toc_cell": true,
   "toc_position": {
    "height": "calc(100% - 180px)",
    "left": "10px",
    "top": "150px",
    "width": "165px"
   },
   "toc_section_display": true,
   "toc_window_display": true
  },
  "varInspector": {
   "cols": {
    "lenName": 16,
    "lenType": 16,
    "lenVar": 40
   },
   "kernels_config": {
    "python": {
     "delete_cmd_postfix": "",
     "delete_cmd_prefix": "del ",
     "library": "var_list.py",
     "varRefreshCmd": "print(var_dic_list())"
    },
    "r": {
     "delete_cmd_postfix": ") ",
     "delete_cmd_prefix": "rm(",
     "library": "var_list.r",
     "varRefreshCmd": "cat(var_dic_list()) "
    }
   },
   "types_to_exclude": [
    "module",
    "function",
    "builtin_function_or_method",
    "instance",
    "_Feature"
   ],
   "window_display": false
  }
 },
 "nbformat": 4,
 "nbformat_minor": 5
}
