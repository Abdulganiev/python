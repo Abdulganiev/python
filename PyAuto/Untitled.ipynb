{
 "cells": [
  {
   "cell_type": "markdown",
   "id": "f9d209f8",
   "metadata": {
    "toc": true
   },
   "source": [
    "<h1>Table of Contents<span class=\"tocSkip\"></span></h1>\n",
    "<div class=\"toc\"><ul class=\"toc-item\"></ul></div>"
   ]
  },
  {
   "cell_type": "code",
   "execution_count": 4,
   "id": "4af3a5e1",
   "metadata": {},
   "outputs": [],
   "source": [
    "import pyautogui as pa"
   ]
  },
  {
   "cell_type": "code",
   "execution_count": 26,
   "id": "02571e52",
   "metadata": {},
   "outputs": [],
   "source": [
    "pa.PAUSE = 1 # каждый вызов функции pyautogui с задержкой\n",
    "pa.FAILSAFE = True # безопасный выход курсор в верхний левый угол"
   ]
  },
  {
   "cell_type": "code",
   "execution_count": 12,
   "id": "2fed1ded",
   "metadata": {},
   "outputs": [
    {
     "name": "stdout",
     "output_type": "stream",
     "text": [
      "размеры экрана: 1600 на 900\n"
     ]
    }
   ],
   "source": [
    "w, h = pa.size() # возвращает размеры экрана\n",
    "print(f'размеры экрана: {w} на {h}')"
   ]
  },
  {
   "cell_type": "code",
   "execution_count": 27,
   "id": "abfdd716",
   "metadata": {},
   "outputs": [],
   "source": [
    "for i in range(10):\n",
    "    pa.moveTo(10, h-(i*10), duration=0.25)\n",
    "#     pa.moveTo(200, 100, duration=0.25)\n",
    "#     pa.moveTo(200, 200, duration=0.25)\n",
    "#     pa.moveTo(100, 200, duration=0.25)\n",
    "    "
   ]
  },
  {
   "cell_type": "code",
   "execution_count": null,
   "id": "7258b150",
   "metadata": {},
   "outputs": [],
   "source": []
  }
 ],
 "metadata": {
  "kernelspec": {
   "display_name": "Python 3",
   "language": "python",
   "name": "python3"
  },
  "language_info": {
   "codemirror_mode": {
    "name": "ipython",
    "version": 3
   },
   "file_extension": ".py",
   "mimetype": "text/x-python",
   "name": "python",
   "nbconvert_exporter": "python",
   "pygments_lexer": "ipython3",
   "version": "3.8.8"
  },
  "toc": {
   "base_numbering": 1,
   "nav_menu": {},
   "number_sections": true,
   "sideBar": true,
   "skip_h1_title": false,
   "title_cell": "Table of Contents",
   "title_sidebar": "Contents",
   "toc_cell": true,
   "toc_position": {},
   "toc_section_display": true,
   "toc_window_display": true
  },
  "varInspector": {
   "cols": {
    "lenName": 16,
    "lenType": 16,
    "lenVar": 40
   },
   "kernels_config": {
    "python": {
     "delete_cmd_postfix": "",
     "delete_cmd_prefix": "del ",
     "library": "var_list.py",
     "varRefreshCmd": "print(var_dic_list())"
    },
    "r": {
     "delete_cmd_postfix": ") ",
     "delete_cmd_prefix": "rm(",
     "library": "var_list.r",
     "varRefreshCmd": "cat(var_dic_list()) "
    }
   },
   "types_to_exclude": [
    "module",
    "function",
    "builtin_function_or_method",
    "instance",
    "_Feature"
   ],
   "window_display": false
  }
 },
 "nbformat": 4,
 "nbformat_minor": 5
}
