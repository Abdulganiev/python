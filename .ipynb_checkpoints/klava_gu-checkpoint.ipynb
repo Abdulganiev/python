{
 "cells": [
  {
   "cell_type": "markdown",
   "id": "e2b2fcf0",
   "metadata": {
    "toc": true
   },
   "source": [
    "<h1>Table of Contents<span class=\"tocSkip\"></span></h1>\n",
    "<div class=\"toc\"><ul class=\"toc-item\"></ul></div>"
   ]
  },
  {
   "cell_type": "code",
   "execution_count": 1,
   "id": "87143e2b",
   "metadata": {},
   "outputs": [],
   "source": [
    "from keyboard import press_and_release\n",
    "from time import sleep\n",
    "import pyperclip\n",
    "import pyautogui as pag"
   ]
  },
  {
   "cell_type": "code",
   "execution_count": 32,
   "id": "aa86b3b5",
   "metadata": {
    "code_folding": []
   },
   "outputs": [],
   "source": [
    "def paste(text: str):    \n",
    "    pyperclip.copy(text)\n",
    "    press_and_release('ctrl + v')\n",
    "\n",
    "\n",
    "def type(text: str, interval=0.0):    \n",
    "    buffer = pyperclip.paste()\n",
    "    if not interval:\n",
    "        paste(text)\n",
    "    else:\n",
    "        for char in text:\n",
    "            paste(char)\n",
    "            sleep(interval)\n",
    "    pyperclip.copy(buffer)\n",
    "    \n",
    "    \n",
    "def okno():    \n",
    "#     pag.hotkey('altleft', 'tab')\n",
    "    pag.keyDown(\"altleft\")\n",
    "    pag.press(\"tab\")\n",
    "    pag.keyUp(\"altleft\")\n",
    "    pag.press(\"enter\")\n",
    "\n",
    "def hom(text, o):\n",
    "    pag.press(\"home\")\n",
    "    pag.moveTo(1200, 340, 2)\n",
    "    pag.click()\n",
    "    pag.moveTo(590, 385, 2)\n",
    "    pag.click()\n",
    "\n",
    "#     type(text, 0.1)\n",
    "    past(text)\n",
    "    pag.press(\"esc\")\n",
    "\n",
    "    if o == 1: # обязательный или нет\n",
    "        pag.moveTo(580, 480, 0.5)\n",
    "        pag.click()\n",
    "    else:\n",
    "        pag.moveTo(1200, 490, 0.5)\n",
    "        pag.click()\n",
    "    \n",
    "    pag.press(\"end\")\n",
    "    \n",
    "    pag.moveTo(580, 490, 0.5)\n",
    "    pag.click()\n",
    "    \n",
    "def gu_str(text, o):\n",
    "    hom(text, o)\n",
    "    type('11', 1)\n",
    "    pag.press(\"enter\")\n",
    "    pag.moveTo(565, 775, 0.5)\n",
    "    pag.click()\n",
    "    pag.press('enter')\n",
    "    \n",
    "def gu_dat(text, o):\n",
    "    hom(text, o)\n",
    "    type('3', 1)\n",
    "    pag.press(\"enter\")\n",
    "    pag.press('enter')    \n",
    "    \n",
    "def gu_com(text, o):\n",
    "    hom(text,  0)\n",
    "    type('12', 1)\n",
    "    pag.press(\"enter\")\n",
    "    pag.press('enter')\n",
    "    \n",
    "def gu_mesto(text, o):\n",
    "    hom(text,  o)\n",
    "    text2 = 'указываются на основании записи в документе, удостоверяющем личность, или ином документе, подтверждающем постоянное проживание заявителя на территории Ямало-Ненецкого автономного округа'\n",
    "    pag.moveTo(565, 450, 0.5)\n",
    "    pag.click()\n",
    "    type(text2, 0.1)    \n",
    "\n",
    "    pag.moveTo(580, 490, 0.5)\n",
    "    pag.click()\n",
    "    type('11', 1)\n",
    "    pag.press(\"enter\")\n",
    "    pag.moveTo(565, 775, 0.5)\n",
    "    pag.click()\n",
    "    pag.press('enter')\n",
    "    \n",
    "def sogl(text):\n",
    "    hom(text,  1)\n",
    "    type('6', 1)\n",
    "    pag.press(\"enter\")\n",
    "    pag.moveTo(565, 560, 0.5)\n",
    "    pag.click()\n",
    "    pag.moveTo(565, 595, 0.5)\n",
    "    pag.click()\n",
    "    type('Да', 0.1)\n",
    "    pag.press(\"enter\")    "
   ]
  },
  {
   "cell_type": "code",
   "execution_count": 5,
   "id": "3b64dc43",
   "metadata": {},
   "outputs": [],
   "source": [
    "def opek1():\n",
    "    text = 'Прошу'\n",
    "    hom(text,  1)\n",
    "    t1 = 'передать мне под опеку (попечительство)'\n",
    "    t2 = 'передать мне под опеку (попечительство) на возмездной основе'\n",
    "    type('6', 1)\n",
    "    pag.press(\"enter\")\n",
    "    pag.moveTo(565, 560, 0.5)\n",
    "    pag.click()\n",
    "    pag.moveTo(565, 595, 0.5)\n",
    "    pag.click()\n",
    "    type(t1, 0.1)\n",
    "    \n",
    "    pag.moveTo(565, 705, 0.5)\n",
    "    pag.click()        \n",
    "    pag.moveTo(565, 745, 0.5)\n",
    "    pag.click()\n",
    "    type(t2, 0.1)\n",
    "    pag.press(\"enter\")"
   ]
  },
  {
   "cell_type": "code",
   "execution_count": 24,
   "id": "8b24b776",
   "metadata": {},
   "outputs": [],
   "source": [
    "def opek2():\n",
    "    text = 'Дополнительно могу сообщить о себе следующее'\n",
    "    t = 'указывается наличие у гражданина необходимых знаний и навыков в осуществлении опеки (попечительства) над совершеннолетним недееспособным или не полностью дееспособным гражданином, в том числе информация о наличии документов о профессиональной деятельности, о прохождении программ подготовки кандидатов в опекуны или попечители и т.д.'\n",
    "    hom(text,  1)\n",
    "    \n",
    "    pag.moveTo(565, 165, 0.5)\n",
    "    pag.click()\n",
    "    type(t, 0.1)\n",
    "    \n",
    "    pag.moveTo(565, 500, 0.5)\n",
    "    pag.click()\n",
    "    type('9', 1)\n",
    "    pag.press(\"enter\")\n",
    "    pag.press(\"enter\")"
   ]
  },
  {
   "cell_type": "code",
   "execution_count": 30,
   "id": "328d84a9",
   "metadata": {},
   "outputs": [],
   "source": [
    "def past(text):\n",
    "    pyperclip.copy(text)\n",
    "    pag.hotkey('ctrl', 'v')"
   ]
  },
  {
   "cell_type": "code",
   "execution_count": 33,
   "id": "ae703e6b",
   "metadata": {},
   "outputs": [
    {
     "ename": "FailSafeException",
     "evalue": "PyAutoGUI fail-safe triggered from mouse moving to a corner of the screen. To disable this fail-safe, set pyautogui.FAILSAFE to False. DISABLING FAIL-SAFE IS NOT RECOMMENDED.",
     "output_type": "error",
     "traceback": [
      "\u001b[1;31m---------------------------------------------------------------------------\u001b[0m",
      "\u001b[1;31mFailSafeException\u001b[0m                         Traceback (most recent call last)",
      "\u001b[1;32m<ipython-input-33-628c99a23b59>\u001b[0m in \u001b[0;36m<module>\u001b[1;34m\u001b[0m\n\u001b[0;32m     24\u001b[0m \u001b[1;33m\u001b[0m\u001b[0m\n\u001b[0;32m     25\u001b[0m \u001b[0mopek2\u001b[0m\u001b[1;33m(\u001b[0m\u001b[1;33m)\u001b[0m\u001b[1;33m\u001b[0m\u001b[1;33m\u001b[0m\u001b[0m\n\u001b[1;32m---> 26\u001b[1;33m \u001b[0msogl\u001b[0m\u001b[1;33m(\u001b[0m\u001b[1;34m'Даю согласие на обработку и использование моих персональных данных, содержащихся в настоящем заявлении и в представленных мною документах'\u001b[0m\u001b[1;33m)\u001b[0m\u001b[1;33m\u001b[0m\u001b[1;33m\u001b[0m\u001b[0m\n\u001b[0m\u001b[0;32m     27\u001b[0m \u001b[0msogl\u001b[0m\u001b[1;33m(\u001b[0m\u001b[1;34m'Достоверность представленных сведений, указанных в заявлении, подтверждаю'\u001b[0m\u001b[1;33m)\u001b[0m\u001b[1;33m\u001b[0m\u001b[1;33m\u001b[0m\u001b[0m\n\u001b[0;32m     28\u001b[0m \u001b[0msogl\u001b[0m\u001b[1;33m(\u001b[0m\u001b[1;34m'Об ответственности за достоверность представленных сведений проинформирован'\u001b[0m\u001b[1;33m)\u001b[0m\u001b[1;33m\u001b[0m\u001b[1;33m\u001b[0m\u001b[0m\n",
      "\u001b[1;32m<ipython-input-32-34a82b04ab20>\u001b[0m in \u001b[0;36msogl\u001b[1;34m(text)\u001b[0m\n\u001b[0;32m     81\u001b[0m \u001b[1;33m\u001b[0m\u001b[0m\n\u001b[0;32m     82\u001b[0m \u001b[1;32mdef\u001b[0m \u001b[0msogl\u001b[0m\u001b[1;33m(\u001b[0m\u001b[0mtext\u001b[0m\u001b[1;33m)\u001b[0m\u001b[1;33m:\u001b[0m\u001b[1;33m\u001b[0m\u001b[1;33m\u001b[0m\u001b[0m\n\u001b[1;32m---> 83\u001b[1;33m     \u001b[0mhom\u001b[0m\u001b[1;33m(\u001b[0m\u001b[0mtext\u001b[0m\u001b[1;33m,\u001b[0m  \u001b[1;36m1\u001b[0m\u001b[1;33m)\u001b[0m\u001b[1;33m\u001b[0m\u001b[1;33m\u001b[0m\u001b[0m\n\u001b[0m\u001b[0;32m     84\u001b[0m     \u001b[0mtype\u001b[0m\u001b[1;33m(\u001b[0m\u001b[1;34m'6'\u001b[0m\u001b[1;33m,\u001b[0m \u001b[1;36m1\u001b[0m\u001b[1;33m)\u001b[0m\u001b[1;33m\u001b[0m\u001b[1;33m\u001b[0m\u001b[0m\n\u001b[0;32m     85\u001b[0m     \u001b[0mpag\u001b[0m\u001b[1;33m.\u001b[0m\u001b[0mpress\u001b[0m\u001b[1;33m(\u001b[0m\u001b[1;34m\"enter\"\u001b[0m\u001b[1;33m)\u001b[0m\u001b[1;33m\u001b[0m\u001b[1;33m\u001b[0m\u001b[0m\n",
      "\u001b[1;32m<ipython-input-32-34a82b04ab20>\u001b[0m in \u001b[0;36mhom\u001b[1;34m(text, o)\u001b[0m\n\u001b[0;32m     34\u001b[0m \u001b[1;33m\u001b[0m\u001b[0m\n\u001b[0;32m     35\u001b[0m     \u001b[1;32mif\u001b[0m \u001b[0mo\u001b[0m \u001b[1;33m==\u001b[0m \u001b[1;36m1\u001b[0m\u001b[1;33m:\u001b[0m \u001b[1;31m# обязательный или нет\u001b[0m\u001b[1;33m\u001b[0m\u001b[1;33m\u001b[0m\u001b[0m\n\u001b[1;32m---> 36\u001b[1;33m         \u001b[0mpag\u001b[0m\u001b[1;33m.\u001b[0m\u001b[0mmoveTo\u001b[0m\u001b[1;33m(\u001b[0m\u001b[1;36m580\u001b[0m\u001b[1;33m,\u001b[0m \u001b[1;36m480\u001b[0m\u001b[1;33m,\u001b[0m \u001b[1;36m0.5\u001b[0m\u001b[1;33m)\u001b[0m\u001b[1;33m\u001b[0m\u001b[1;33m\u001b[0m\u001b[0m\n\u001b[0m\u001b[0;32m     37\u001b[0m         \u001b[0mpag\u001b[0m\u001b[1;33m.\u001b[0m\u001b[0mclick\u001b[0m\u001b[1;33m(\u001b[0m\u001b[1;33m)\u001b[0m\u001b[1;33m\u001b[0m\u001b[1;33m\u001b[0m\u001b[0m\n\u001b[0;32m     38\u001b[0m     \u001b[1;32melse\u001b[0m\u001b[1;33m:\u001b[0m\u001b[1;33m\u001b[0m\u001b[1;33m\u001b[0m\u001b[0m\n",
      "\u001b[1;32mC:\\ProgramData\\Anaconda3\\lib\\site-packages\\pyautogui\\__init__.py\u001b[0m in \u001b[0;36mwrapper\u001b[1;34m(*args, **kwargs)\u001b[0m\n\u001b[0;32m    595\u001b[0m     \u001b[1;33m@\u001b[0m\u001b[0mfunctools\u001b[0m\u001b[1;33m.\u001b[0m\u001b[0mwraps\u001b[0m\u001b[1;33m(\u001b[0m\u001b[0mwrappedFunction\u001b[0m\u001b[1;33m)\u001b[0m\u001b[1;33m\u001b[0m\u001b[1;33m\u001b[0m\u001b[0m\n\u001b[0;32m    596\u001b[0m     \u001b[1;32mdef\u001b[0m \u001b[0mwrapper\u001b[0m\u001b[1;33m(\u001b[0m\u001b[1;33m*\u001b[0m\u001b[0margs\u001b[0m\u001b[1;33m,\u001b[0m \u001b[1;33m**\u001b[0m\u001b[0mkwargs\u001b[0m\u001b[1;33m)\u001b[0m\u001b[1;33m:\u001b[0m\u001b[1;33m\u001b[0m\u001b[1;33m\u001b[0m\u001b[0m\n\u001b[1;32m--> 597\u001b[1;33m         \u001b[0mfailSafeCheck\u001b[0m\u001b[1;33m(\u001b[0m\u001b[1;33m)\u001b[0m\u001b[1;33m\u001b[0m\u001b[1;33m\u001b[0m\u001b[0m\n\u001b[0m\u001b[0;32m    598\u001b[0m         \u001b[0mreturnVal\u001b[0m \u001b[1;33m=\u001b[0m \u001b[0mwrappedFunction\u001b[0m\u001b[1;33m(\u001b[0m\u001b[1;33m*\u001b[0m\u001b[0margs\u001b[0m\u001b[1;33m,\u001b[0m \u001b[1;33m**\u001b[0m\u001b[0mkwargs\u001b[0m\u001b[1;33m)\u001b[0m\u001b[1;33m\u001b[0m\u001b[1;33m\u001b[0m\u001b[0m\n\u001b[0;32m    599\u001b[0m         \u001b[0m_handlePause\u001b[0m\u001b[1;33m(\u001b[0m\u001b[0mkwargs\u001b[0m\u001b[1;33m.\u001b[0m\u001b[0mget\u001b[0m\u001b[1;33m(\u001b[0m\u001b[1;34m\"_pause\"\u001b[0m\u001b[1;33m,\u001b[0m \u001b[1;32mTrue\u001b[0m\u001b[1;33m)\u001b[0m\u001b[1;33m)\u001b[0m\u001b[1;33m\u001b[0m\u001b[1;33m\u001b[0m\u001b[0m\n",
      "\u001b[1;32mC:\\ProgramData\\Anaconda3\\lib\\site-packages\\pyautogui\\__init__.py\u001b[0m in \u001b[0;36mfailSafeCheck\u001b[1;34m()\u001b[0m\n\u001b[0;32m   1720\u001b[0m \u001b[1;32mdef\u001b[0m \u001b[0mfailSafeCheck\u001b[0m\u001b[1;33m(\u001b[0m\u001b[1;33m)\u001b[0m\u001b[1;33m:\u001b[0m\u001b[1;33m\u001b[0m\u001b[1;33m\u001b[0m\u001b[0m\n\u001b[0;32m   1721\u001b[0m     \u001b[1;32mif\u001b[0m \u001b[0mFAILSAFE\u001b[0m \u001b[1;32mand\u001b[0m \u001b[0mtuple\u001b[0m\u001b[1;33m(\u001b[0m\u001b[0mposition\u001b[0m\u001b[1;33m(\u001b[0m\u001b[1;33m)\u001b[0m\u001b[1;33m)\u001b[0m \u001b[1;32min\u001b[0m \u001b[0mFAILSAFE_POINTS\u001b[0m\u001b[1;33m:\u001b[0m\u001b[1;33m\u001b[0m\u001b[1;33m\u001b[0m\u001b[0m\n\u001b[1;32m-> 1722\u001b[1;33m         raise FailSafeException(\n\u001b[0m\u001b[0;32m   1723\u001b[0m             \u001b[1;34m\"PyAutoGUI fail-safe triggered from mouse moving to a corner of the screen. To disable this fail-safe, set pyautogui.FAILSAFE to False. DISABLING FAIL-SAFE IS NOT RECOMMENDED.\"\u001b[0m\u001b[1;33m\u001b[0m\u001b[1;33m\u001b[0m\u001b[0m\n\u001b[0;32m   1724\u001b[0m         )\n",
      "\u001b[1;31mFailSafeException\u001b[0m: PyAutoGUI fail-safe triggered from mouse moving to a corner of the screen. To disable this fail-safe, set pyautogui.FAILSAFE to False. DISABLING FAIL-SAFE IS NOT RECOMMENDED."
     ]
    }
   ],
   "source": [
    "pag.FAILSAFE = True\n",
    "okno()\n",
    "\n",
    "# gu_str('Кем выдан', 1)\n",
    "gu_dat('Когда выдан', 1)\n",
    "# gu_str('Код подразделения', 1)\n",
    "# gu_str('Страховой номер индивидуального лицевого счета (СНИЛС)', 1)\n",
    "\n",
    "# gu_com('Сведения недееспособного или не полностью дееспособного гражданина', 0)\n",
    "# gu_str('Фамилия, имя, отчество', 1)\n",
    "# gu_mesto('Сведения о месте жительства', 1)\n",
    "# gu_dat('Дата рождения', 1)\n",
    "# gu_com('Сведения о документе, удостоверяющем личность :', 0)\n",
    "# gu_str('Наименование документа, удостоверяющего личность', 1)\n",
    "# gu_str('Серия и номер', 1)\n",
    "# gu_str('Кем выдан', 1)\n",
    "# gu_dat('Когда выдан', 1)\n",
    "# gu_str('Код подразделения', 1)\n",
    "# gu_str('Страховой номер индивидуального лицевого счета (СНИЛС)', 1)\n",
    "\n",
    "# opek1()\n",
    "# text = 'Материальные возможности, жилищные условия, состояние здоровья и характер работы позволяют мне взять совершеннолетнего недееспособного или не полностью дееспособного гражданина под опеку (попечительство)'\n",
    "# sogl(text)\n",
    "\n",
    "opek2()\n",
    "sogl('Даю согласие на обработку и использование моих персональных данных, содержащихся в настоящем заявлении и в представленных мною документах')\n",
    "sogl('Достоверность представленных сведений, указанных в заявлении, подтверждаю')\n",
    "sogl('Об ответственности за достоверность представленных сведений проинформирован')"
   ]
  },
  {
   "cell_type": "code",
   "execution_count": 17,
   "id": "9e0bb866",
   "metadata": {},
   "outputs": [
    {
     "name": "stdout",
     "output_type": "stream",
     "text": [
      "Point(x=562, y=501)\n"
     ]
    }
   ],
   "source": [
    "okno()\n",
    "print(pag.position())"
   ]
  },
  {
   "cell_type": "code",
   "execution_count": 31,
   "id": "08cae0af",
   "metadata": {},
   "outputs": [],
   "source": [
    "text = 'тест'\n",
    "okno()\n",
    "past(text)"
   ]
  }
 ],
 "metadata": {
  "kernelspec": {
   "display_name": "Python 3",
   "language": "python",
   "name": "python3"
  },
  "language_info": {
   "codemirror_mode": {
    "name": "ipython",
    "version": 3
   },
   "file_extension": ".py",
   "mimetype": "text/x-python",
   "name": "python",
   "nbconvert_exporter": "python",
   "pygments_lexer": "ipython3",
   "version": "3.8.8"
  },
  "toc": {
   "base_numbering": 1,
   "nav_menu": {},
   "number_sections": true,
   "sideBar": true,
   "skip_h1_title": false,
   "title_cell": "Table of Contents",
   "title_sidebar": "Contents",
   "toc_cell": true,
   "toc_position": {
    "height": "calc(100% - 180px)",
    "left": "10px",
    "top": "150px",
    "width": "165px"
   },
   "toc_section_display": true,
   "toc_window_display": true
  },
  "varInspector": {
   "cols": {
    "lenName": 16,
    "lenType": 16,
    "lenVar": 40
   },
   "kernels_config": {
    "python": {
     "delete_cmd_postfix": "",
     "delete_cmd_prefix": "del ",
     "library": "var_list.py",
     "varRefreshCmd": "print(var_dic_list())"
    },
    "r": {
     "delete_cmd_postfix": ") ",
     "delete_cmd_prefix": "rm(",
     "library": "var_list.r",
     "varRefreshCmd": "cat(var_dic_list()) "
    }
   },
   "types_to_exclude": [
    "module",
    "function",
    "builtin_function_or_method",
    "instance",
    "_Feature"
   ],
   "window_display": false
  }
 },
 "nbformat": 4,
 "nbformat_minor": 5
}
