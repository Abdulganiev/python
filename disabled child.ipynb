{
 "cells": [
  {
   "cell_type": "markdown",
   "id": "e2b2fcf0",
   "metadata": {
    "toc": true
   },
   "source": [
    "<h1>Table of Contents<span class=\"tocSkip\"></span></h1>\n",
    "<div class=\"toc\"><ul class=\"toc-item\"></ul></div>"
   ]
  },
  {
   "cell_type": "code",
   "execution_count": 1,
   "id": "87143e2b",
   "metadata": {},
   "outputs": [],
   "source": [
    "# from keyboard import press_and_release\n",
    "# from time import sleep\n",
    "# import pyperclip\n",
    "# import pyautogui as pag\n",
    "from fun_forma import *"
   ]
  },
  {
   "cell_type": "code",
   "execution_count": 2,
   "id": "1aca07a7",
   "metadata": {
    "scrolled": true
   },
   "outputs": [],
   "source": [
    "uszn = 'Тазовский'\n",
    "mail = 'sz@tazovsky.yanao.ru'\n",
    "\n",
    "okno()\n",
    "\n",
    "forma(f'Заявление в ОСЗН {uszn} об установлении ежемесячного пособия на ребенка-инвалида', mail)\n",
    "forma2()\n",
    "\n",
    "zayav()\n",
    "gu_com('Сведения о заявителе', 0)\n",
    "gu_str('Фамилия, имя, отчество заявителя', 1)\n",
    "gu_dat('Дата рождения заявителя', 1)\n",
    "gu_mesto('Сведения о месте жительства', 1)\n",
    "gu_str('Контактный телефон', 1)\n",
    "gu_mail('Адрес электронной почты', 1)\n",
    "dul('Сведения о документе, удостоверяющем личность заявителя:')\n",
    "gragd()\n",
    "gu_str('Страховой номер индивидуального лицевого счета (СНИЛС)', 1)\n",
    "gu_str('Идентификационный номер налогоплательщика физического лица (ИНН)', 1)\n",
    "\n",
    "gu_com('Сведения о ребенке-инвалиде', 0)\n",
    "gu_str('Фамилия, имя, отчество', 1)\n",
    "gu_dat('Дата рождения', 1)\n",
    "gu_mesto('Сведения о месте жительства', 1)\n",
    "dul('Сведения о документе, удостоверяющем личность ребенка-инвалида:')\n",
    "gragd()\n",
    "gu_str('Страховой номер индивидуального лицевого счета (СНИЛС)', 1)\n",
    "gu_str('Степень родства или свойства ребёнка-инвалида с заявителем', 1)\n",
    "gu_com('Реквизиты актовой записи, подтверждающей степень родства или свойства:', 0)\n",
    "gu_str('номер акта', 1)\n",
    "gu_dat('дата акта', 1)\n",
    "gu_str('наименование органа, составившего запись', 1)\n",
    "gu_com('Реквизиты актовой записи о рождении ребенка-инвалида:', 0)\n",
    "gu_str('номер акта', 1)\n",
    "gu_dat('дата акта', 1)\n",
    "gu_str('наименование органа, составившего запись', 1)\n",
    "variant1('Прошу  поставить  меня  на учет по категории \"Семья, имеющая детей-инвалидов\"')\n",
    "variant1('Прошу  предоставлять (восстановить) меры социальной поддержки в форме \"Ежемесячное пособие на ребенка-инвалида одному из родителей (усыновителей, опекунов, попечителей), постоянно проживающему с ребенком-инвалидом\"')\n",
    "\n",
    "bank()\n",
    "\n",
    "variant3('Информацию о ходе предоставления государственной услуги прошу направлять посредством:',\n",
    "         'смс-информирования',\n",
    "         'на адрес электронной почты',\n",
    "         'в личный кабинет в федеральной государственной информационной системе \"Единый портал государственных и муниципальных услуг (функций)\"')\n",
    "\n",
    "\n",
    "variant1('Достоверность  представленных  сведений,  указанных  в  заявлении  об установлении  мер  социальной поддержки, подтверждаю')\n",
    "variant1('Об ответственности за недостоверность представленных сведений проинформирован')\n",
    "variant1('Обязуюсь в десятидневный срок извещать о возникновении обстоятельств, влекущих изменение размеров, приостановление или прекращение предоставления ежемесячное пособие на ребенка-инвалида')\n",
    "variant1('Проинформирован о том, что излишне выплаченные по вине получателя суммы, в случае невыполнения указанных обязательств, а также при предоставлении ежемесячного пособия на ребенка-инвалида по  представленным документам  с заведомо неверными сведениями, возвращаются гражданами добровольно или взыскиваются в судебном порядке')\n",
    "\n",
    "gu_com('К заявлению прилагаю следующие документы:', 0)\n",
    "in_file('1. Приложите документы, которые вы считаете необходимы', 0)\n",
    "\n",
    "end()"
   ]
  },
  {
   "cell_type": "code",
   "execution_count": null,
   "id": "9e0bb866",
   "metadata": {},
   "outputs": [],
   "source": [
    "okno()\n",
    "print(pag.position())"
   ]
  },
  {
   "cell_type": "code",
   "execution_count": null,
   "id": "0d0699f9",
   "metadata": {},
   "outputs": [],
   "source": []
  }
 ],
 "metadata": {
  "kernelspec": {
   "display_name": "Python 3",
   "language": "python",
   "name": "python3"
  },
  "language_info": {
   "codemirror_mode": {
    "name": "ipython",
    "version": 3
   },
   "file_extension": ".py",
   "mimetype": "text/x-python",
   "name": "python",
   "nbconvert_exporter": "python",
   "pygments_lexer": "ipython3",
   "version": "3.8.8"
  },
  "toc": {
   "base_numbering": 1,
   "nav_menu": {},
   "number_sections": true,
   "sideBar": true,
   "skip_h1_title": false,
   "title_cell": "Table of Contents",
   "title_sidebar": "Contents",
   "toc_cell": true,
   "toc_position": {
    "height": "calc(100% - 180px)",
    "left": "10px",
    "top": "150px",
    "width": "165px"
   },
   "toc_section_display": true,
   "toc_window_display": true
  },
  "varInspector": {
   "cols": {
    "lenName": 16,
    "lenType": 16,
    "lenVar": 40
   },
   "kernels_config": {
    "python": {
     "delete_cmd_postfix": "",
     "delete_cmd_prefix": "del ",
     "library": "var_list.py",
     "varRefreshCmd": "print(var_dic_list())"
    },
    "r": {
     "delete_cmd_postfix": ") ",
     "delete_cmd_prefix": "rm(",
     "library": "var_list.r",
     "varRefreshCmd": "cat(var_dic_list()) "
    }
   },
   "types_to_exclude": [
    "module",
    "function",
    "builtin_function_or_method",
    "instance",
    "_Feature"
   ],
   "window_display": false
  }
 },
 "nbformat": 4,
 "nbformat_minor": 5
}
