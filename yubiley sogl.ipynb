{
 "cells": [
  {
   "cell_type": "markdown",
   "id": "e2b2fcf0",
   "metadata": {
    "toc": true
   },
   "source": [
    "<h1>Table of Contents<span class=\"tocSkip\"></span></h1>\n",
    "<div class=\"toc\"><ul class=\"toc-item\"></ul></div>"
   ]
  },
  {
   "cell_type": "code",
   "execution_count": 1,
   "id": "87143e2b",
   "metadata": {},
   "outputs": [],
   "source": [
    "from keyboard import press_and_release\n",
    "from time import sleep\n",
    "import pyperclip\n",
    "import pyautogui as pag\n"
   ]
  },
  {
   "cell_type": "code",
   "execution_count": 26,
   "id": "aa86b3b5",
   "metadata": {
    "code_folding": []
   },
   "outputs": [],
   "source": [
    "def paste(text: str):    \n",
    "    pyperclip.copy(text)\n",
    "    press_and_release('ctrl + v')\n",
    "\n",
    "\n",
    "def type(text: str, interval=0.0):    \n",
    "    buffer = pyperclip.paste()\n",
    "    if not interval:\n",
    "        paste(text)\n",
    "    else:\n",
    "        for char in text:\n",
    "            paste(char)\n",
    "            sleep(interval)\n",
    "    pyperclip.copy(buffer)\n",
    "    \n",
    "    \n",
    "def okno():    \n",
    "    pag.keyDown(\"altleft\")\n",
    "    pag.press(\"tab\")\n",
    "    pag.keyUp(\"altleft\")\n",
    "    pag.press(\"enter\")\n",
    "\n",
    "def hom(text, o):\n",
    "    pag.press(\"home\")\n",
    "    pag.moveTo(1200, 340, 4)\n",
    "    pag.click()\n",
    "    pag.moveTo(590, 385, 4)\n",
    "    pag.click()\n",
    "\n",
    "    past(text)\n",
    "    pag.press(\"esc\")\n",
    "\n",
    "    if o == 1: # обязательный или нет\n",
    "        pag.moveTo(565, 511, 1.5)\n",
    "        pag.click()\n",
    "    else:\n",
    "        pag.moveTo(1200, 490, 1.5)\n",
    "        pag.click()\n",
    "    \n",
    "    pag.press(\"end\")\n",
    "    \n",
    "    pag.moveTo(580, 490, 1.5)\n",
    "    pag.click()\n",
    "    \n",
    "def gu_str(text, o):\n",
    "    hom(text, o)\n",
    "    type('11', 1.5)\n",
    "    pag.press(\"enter\")\n",
    "    pag.moveTo(568, 813, 1.5)\n",
    "    pag.click()\n",
    "    pag.press('enter')\n",
    "    \n",
    "def gu_dat(text, o):\n",
    "    hom(text, o)\n",
    "    type('3', 1.5)\n",
    "    pag.press(\"enter\")\n",
    "    pag.press('enter')\n",
    "    \n",
    "def gu_num(text, o):\n",
    "    hom(text, o)\n",
    "    type('14', 1.5)\n",
    "    pag.press(\"enter\")\n",
    "    pag.press('enter')    \n",
    "    \n",
    "def gu_mail(text, o):\n",
    "    hom(text, o)\n",
    "    type('1', 1.5)\n",
    "    pag.press(\"enter\")\n",
    "    pag.press('enter')\n",
    "    \n",
    "def gu_com(text, o):\n",
    "    hom(text,  0)\n",
    "    type('12', 1.5)\n",
    "    pag.press(\"enter\")\n",
    "    pag.press('enter')\n",
    "    \n",
    "def gu_mesto(text, o):\n",
    "    hom(text,  o)\n",
    "    text2 = 'указываются на основании записи в документе, удостоверяющем личность, или ином документе, подтверждающем постоянное проживание заявителя на территории Ямало-Ненецкого автономного округа'\n",
    "    pag.moveTo(565, 450, 1.5)\n",
    "    pag.click()\n",
    "    past(text2)\n",
    "\n",
    "    pag.moveTo(580, 490, 1.5)\n",
    "    pag.click()\n",
    "    type('11', 1.5)\n",
    "    pag.press(\"enter\")\n",
    "    pag.moveTo(565, 812, 1.5)\n",
    "    pag.click()\n",
    "    pag.press('enter')\n",
    "    \n",
    "def sogl(text):\n",
    "    hom(text,  1)\n",
    "    type('6', 2)\n",
    "    pag.press(\"enter\")\n",
    "    pag.moveTo(565, 560, 1.5)\n",
    "    pag.click()\n",
    "    pag.moveTo(565, 595, 1.5)\n",
    "    pag.click()\n",
    "    type('Да', 0.5)\n",
    "    pag.press(\"enter\")    "
   ]
  },
  {
   "cell_type": "code",
   "execution_count": 5,
   "id": "b521913f",
   "metadata": {},
   "outputs": [],
   "source": [
    "def past(text):\n",
    "    pyperclip.copy(text)\n",
    "    pag.hotkey('ctrl', 'v')    "
   ]
  },
  {
   "cell_type": "code",
   "execution_count": 20,
   "id": "2447b6f2",
   "metadata": {},
   "outputs": [],
   "source": [
    "def variant2(text, t1, t2):\n",
    "    hom(text,  1)\n",
    "    type('6', 1)\n",
    "    pag.press(\"enter\")\n",
    "    pag.moveTo(565, 560, 1.5)\n",
    "    pag.click()\n",
    "    pag.moveTo(565, 595, 1.5)\n",
    "    pag.click()\n",
    "    past(t1)\n",
    "    pag.press(\"esc\")\n",
    "    \n",
    "    pag.moveTo(565, 705, 1.5)\n",
    "    pag.click()        \n",
    "    pag.moveTo(565, 745, 1.5)\n",
    "    pag.click()\n",
    "    past(t2)\n",
    "    pag.press(\"enter\")\n",
    "    \n",
    "def in_file(text, o):\n",
    "    hom(text,  o)\n",
    "    type('4', 1)\n",
    "    pag.press(\"enter\")\n",
    "    pag.press(\"enter\")"
   ]
  },
  {
   "cell_type": "code",
   "execution_count": 21,
   "id": "82eb1cad",
   "metadata": {},
   "outputs": [],
   "source": [
    "def zayav():\n",
    "    pag.moveTo(1240, 350, 3.5)\n",
    "    pag.click()\n",
    "    pag.moveTo(560, 390, 3.5)\n",
    "    pag.click()\n",
    "    text = 'Данные заявления'\n",
    "    past(text)\n",
    "    pag.press(\"enter\")\n",
    "    pag.moveTo(1245, 413, 3.5)\n",
    "    pag.click()"
   ]
  },
  {
   "cell_type": "code",
   "execution_count": 9,
   "id": "9f11d841",
   "metadata": {},
   "outputs": [],
   "source": [
    "def forma(text1, text2):\n",
    "    pag.moveTo(1235, 330, 1.5)\n",
    "    pag.click()\n",
    "    pag.moveTo(559, 372, 3.5)\n",
    "    pag.click()\n",
    "    past(text1)\n",
    "    pag.moveTo(572, 443, 1)\n",
    "    pag.click()\n",
    "    pag.moveTo(578, 504, 1)\n",
    "    pag.click()\n",
    "    pag.moveTo(565, 476, 1)\n",
    "    pag.click()\n",
    "    pag.moveTo(567, 511, 1)\n",
    "    pag.click()\n",
    "    pag.press(\"end\")\n",
    "    pag.moveTo(613, 345, 1)\n",
    "    pag.click()\n",
    "    pag.click()\n",
    "    pag.press(\"esc\")\n",
    "    past('ivabdulganiev@yanao.ru')\n",
    "    pag.moveTo(617, 395, 1)\n",
    "    pag.click()\n",
    "    pag.click()\n",
    "    pag.press(\"esc\")\n",
    "    past('ISZaguzin@yanao.ru')\n",
    "    pag.moveTo(617, 443, 1)\n",
    "    pag.click()\n",
    "    pag.click()\n",
    "    pag.press(\"esc\")\n",
    "    past(text2)\n",
    "    pag.press(\"enter\")\n",
    "    "
   ]
  },
  {
   "cell_type": "code",
   "execution_count": 10,
   "id": "f33ec0d8",
   "metadata": {},
   "outputs": [],
   "source": [
    "def forma2():\n",
    "    sleep(2)\n",
    "    pag.press(\"home\")\n",
    "    pag.moveTo(1235, 572, 1)\n",
    "    pag.click()"
   ]
  },
  {
   "cell_type": "code",
   "execution_count": 18,
   "id": "a1202697",
   "metadata": {},
   "outputs": [],
   "source": [
    "def gragd():\n",
    "    text = 'Сведения о принадлежности к гражданству:'\n",
    "    hom(text,  1)\n",
    "    t1 = 'Гражданин Российской Федерации'\n",
    "    t2 = 'Иностранный гражданин'\n",
    "    t3 = 'Лицо без гражданства'\n",
    "    variant3(text, t1, t2, t3)"
   ]
  },
  {
   "cell_type": "code",
   "execution_count": 12,
   "id": "b1e163fe",
   "metadata": {},
   "outputs": [],
   "source": [
    "def variant3(text, t1, t2, t3):\n",
    "    hom(text,  1)\n",
    "    type('6', 1)\n",
    "    pag.press(\"enter\")\n",
    "    pag.moveTo(565, 560, 1.5)\n",
    "    pag.click()\n",
    "    pag.moveTo(565, 595, 1.5)\n",
    "    pag.click()\n",
    "    past(t1)\n",
    "    pag.press(\"esc\")\n",
    "    \n",
    "    pag.moveTo(565, 705, 1.5)\n",
    "    pag.click()        \n",
    "    pag.moveTo(565, 745, 1.5)\n",
    "    pag.click()\n",
    "    past(t2)\n",
    "    pag.press(\"esc\")\n",
    "    \n",
    "    pag.moveTo(565, 845, 1.5)\n",
    "    pag.click()\n",
    "    pag.press(\"end\")\n",
    "    pag.moveTo(575, 280, 1.5)\n",
    "    pag.click()\n",
    "    past(t3)\n",
    "    pag.press(\"enter\")"
   ]
  },
  {
   "cell_type": "code",
   "execution_count": 27,
   "id": "b30a8868",
   "metadata": {},
   "outputs": [],
   "source": [
    "okno()\n",
    "forma('Согласие в ОСЗН Красноселькупский на обработку персональных данных супруга, не являющегося заявителем',\n",
    "      'szn@krasnoselkupsky.yanao.ru')\n",
    "\n",
    "forma2()\n",
    "\n",
    "zayav()\n",
    "\n",
    "gu_com('Сведения о субъекте персональных данных (супруга, который не является заявителем):', 0)\n",
    "gu_str('Фамилия, имя, отчество (при наличии)', 1)\n",
    "gu_mesto('Сведения о месте жительства', 1)\n",
    "gu_str('Контактный телефон', 1)\n",
    "gu_mail('Адрес электронной почты', 1)\n",
    "gu_dat('Дата рождения', 1)\n",
    "gu_com('Сведения о документе, удостоверяющем личность :', 0)\n",
    "gu_str('Наименование документа, удостоверяющего личность', 1)\n",
    "gu_str('Серия и номер', 1)\n",
    "gu_str('Кем выдан', 1)\n",
    "gu_dat('Когда выдан', 1)\n",
    "gu_str('Код подразделения', 1)\n",
    "gu_str('Место рождения', 1)\n",
    "gu_str('Страховой номер индивидуального лицевого счета (СНИЛС)', 1)\n",
    "\n",
    "sogl('Я заявляю о согласии на обработку моих персональных данных уполномоченным органом:')\n",
    "gu_str('укажите наименование уполномоченного органа', 1)\n",
    "sogl('моих персональных данных, включающих: фамилию, имя, отчество, пол, дату рождения,  адрес  места жительства, контактные телефоны, реквизиты паспорта (документ удостоверяющий личность),  сведения о дате выдачи указанного документа и выдавшем его органе, для предоставления единовременной выплаты ')\n",
    "gu_str('укажите ФИО заявителя, который подал заявление', 1)\n",
    "gu_dat('укажите дату подачи заявления', 1)\n",
    "\n",
    "sogl('я предоставляю право ответственным лицам уполномоченного органа')\n",
    "gu_str('укажите наименование уполномоченного органа', 1)\n",
    "sogl('осуществлять обработку моих персональных данных при проведении сверки с данными различных органов государственной власти, иных государственных органов, органов местного самоуправления, а также юридических лиц, независимо от их организационно-правовых форм и форм собственности.')\n",
    "sogl('Ознакомлен, что в любое время вправе обратиться с письменным заявлением о прекращении действия настоящего согласия.')\n"
   ]
  },
  {
   "cell_type": "code",
   "execution_count": 25,
   "id": "9e0bb866",
   "metadata": {},
   "outputs": [
    {
     "name": "stdout",
     "output_type": "stream",
     "text": [
      "Point(x=565, y=813)\n"
     ]
    }
   ],
   "source": [
    "okno()\n",
    "print(pag.position())"
   ]
  },
  {
   "cell_type": "code",
   "execution_count": 31,
   "id": "cdbd366b",
   "metadata": {},
   "outputs": [],
   "source": []
  }
 ],
 "metadata": {
  "kernelspec": {
   "display_name": "Python 3",
   "language": "python",
   "name": "python3"
  },
  "language_info": {
   "codemirror_mode": {
    "name": "ipython",
    "version": 3
   },
   "file_extension": ".py",
   "mimetype": "text/x-python",
   "name": "python",
   "nbconvert_exporter": "python",
   "pygments_lexer": "ipython3",
   "version": "3.8.8"
  },
  "toc": {
   "base_numbering": 1,
   "nav_menu": {},
   "number_sections": true,
   "sideBar": true,
   "skip_h1_title": false,
   "title_cell": "Table of Contents",
   "title_sidebar": "Contents",
   "toc_cell": true,
   "toc_position": {
    "height": "calc(100% - 180px)",
    "left": "10px",
    "top": "150px",
    "width": "165px"
   },
   "toc_section_display": true,
   "toc_window_display": true
  },
  "varInspector": {
   "cols": {
    "lenName": 16,
    "lenType": 16,
    "lenVar": 40
   },
   "kernels_config": {
    "python": {
     "delete_cmd_postfix": "",
     "delete_cmd_prefix": "del ",
     "library": "var_list.py",
     "varRefreshCmd": "print(var_dic_list())"
    },
    "r": {
     "delete_cmd_postfix": ") ",
     "delete_cmd_prefix": "rm(",
     "library": "var_list.r",
     "varRefreshCmd": "cat(var_dic_list()) "
    }
   },
   "types_to_exclude": [
    "module",
    "function",
    "builtin_function_or_method",
    "instance",
    "_Feature"
   ],
   "window_display": false
  }
 },
 "nbformat": 4,
 "nbformat_minor": 5
}
