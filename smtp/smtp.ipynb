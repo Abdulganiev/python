{
 "cells": [
  {
   "cell_type": "markdown",
   "id": "ae6c96ca",
   "metadata": {
    "toc": true
   },
   "source": [
    "<h1>Table of Contents<span class=\"tocSkip\"></span></h1>\n",
    "<div class=\"toc\"><ul class=\"toc-item\"></ul></div>"
   ]
  },
  {
   "cell_type": "code",
   "execution_count": 39,
   "id": "bb818695",
   "metadata": {},
   "outputs": [],
   "source": [
    "import json\n",
    "import os\n",
    "\n",
    "import smtplib # Импортируем библиотеку по работе с SMTP\n",
    "\n",
    "# Добавляем необходимые подклассы - MIME-типы\n",
    "import mimetypes # Импорт класса для обработки неизвестных MIME-типов, базирующихся на расширении файла\n",
    "from email import encoders # Импортируем энкодер\n",
    "from email.mime.base import MIMEBase # Общий тип\n",
    "from email.mime.text import MIMEText # Текст/HTML\n",
    "from email.mime.image import MIMEImage # Изображения\n",
    "from email.mime.audio import MIMEAudio # Аудио\n",
    "from email.mime.multipart import MIMEMultipart # Многокомпонентный объект"
   ]
  },
  {
   "cell_type": "code",
   "execution_count": 29,
   "id": "52499680",
   "metadata": {},
   "outputs": [],
   "source": [
    "def send_email(addr_to, msg_subj, msg_text='', files=[]):\n",
    "    path = 'access_mail.txt'\n",
    "\n",
    "    with open(path) as f:\n",
    "        access = json.load(f)\n",
    "    \n",
    "    server = access['server'] # сервер отправки\n",
    "    addr_from = access['user'] # Отправитель\n",
    "    password  = access['passwd'] # Пароль\n",
    "\n",
    "    msg = MIMEMultipart() # Создаем сообщение\n",
    "    msg['From']    = addr_from # Адресат\n",
    "    msg['To']      = addr_to # Получатель\n",
    "    msg['Subject'] = msg_subj # Тема сообщения\n",
    "\n",
    "    body = msg_text # Текст сообщения\n",
    "    msg.attach(MIMEText(body, 'plain')) # Добавляем в сообщение текст\n",
    "\n",
    "    process_attachement(msg, files)\n",
    "\n",
    "    try:\n",
    "        # подключаемся к почтовому сервису\n",
    "        smtp = smtplib.SMTP(server) # Создаем объект SMTP\n",
    "#         smtp.set_debuglevel(1) # журнал, при необходимости включаем\n",
    "#         smtp.set_debuglevel(True) # Включаем режим отладки, если не нужен - можно закомментировать\n",
    "        smtp.starttls() # Начинаем шифрованный обмен по TLS\n",
    "        smtp.ehlo()\n",
    "        # логинимся на почтовом сервере\n",
    "        smtp.login(addr_from, password) # Получаем доступ\n",
    "        smtp.send_message(msg) # Отправляем сообщение\n",
    "    except smtplib.SMTPException as err:\n",
    "        print('Что - то пошло не так...')\n",
    "        raise err\n",
    "    finally:\n",
    "        smtp.quit()"
   ]
  },
  {
   "cell_type": "code",
   "execution_count": 30,
   "id": "ddc64886",
   "metadata": {},
   "outputs": [],
   "source": [
    "def process_attachement(msg, files):                        # Функция по обработке списка, добавляемых к сообщению файлов\n",
    "    for f in files:\n",
    "        if os.path.isfile(f):                               # Если файл существует\n",
    "            attach_file(msg, f)                             # Добавляем файл к сообщению\n",
    "        elif os.path.exists(f):                             # Если путь не файл и существует, значит - папка\n",
    "            dir = os.listdir(f)                             # Получаем список файлов в папке\n",
    "            for file in dir:                                # Перебираем все файлы и...\n",
    "                attach_file(msg, f+\"/\"+file)                # ...добавляем каждый файл к сообщению"
   ]
  },
  {
   "cell_type": "code",
   "execution_count": 31,
   "id": "62779e6e",
   "metadata": {},
   "outputs": [],
   "source": [
    "def attach_file(msg, filepath):                             # Функция по добавлению конкретного файла к сообщению\n",
    "    filename = os.path.basename(filepath)                   # Получаем только имя файла\n",
    "    ctype, encoding = mimetypes.guess_type(filepath)        # Определяем тип файла на основе его расширения\n",
    "    \n",
    "    if ctype is None or encoding is not None:               # Если тип файла не определяется\n",
    "        ctype = 'application/octet-stream'                  # Будем использовать общий тип\n",
    "    maintype, subtype = ctype.split('/', 1)                 # Получаем тип и подтип\n",
    "    \n",
    "    if maintype == 'text':                                  # Если текстовый файл\n",
    "        with open(filepath) as fp:                          # Открываем файл для чтения\n",
    "            file = MIMEText(fp.read(), _subtype=subtype)    # Используем тип MIMEText\n",
    "            fp.close()                                      # После использования файл обязательно нужно закрыть\n",
    "    elif maintype == 'image':                               # Если изображение\n",
    "        with open(filepath, 'rb') as fp:\n",
    "            file = MIMEImage(fp.read(), _subtype=subtype)\n",
    "            fp.close()\n",
    "    elif maintype == 'audio':                               # Если аудио\n",
    "        with open(filepath, 'rb') as fp:\n",
    "            file = MIMEAudio(fp.read(), _subtype=subtype)\n",
    "            fp.close()\n",
    "    else:                                                   # Неизвестный тип файла\n",
    "        with open(filepath, 'rb') as fp:\n",
    "            file = MIMEBase(maintype, subtype)              # Используем общий MIME-тип\n",
    "            file.set_payload(fp.read())                     # Добавляем содержимое общего типа (полезную нагрузку)\n",
    "            fp.close()\n",
    "            encoders.encode_base64(file)                    # Содержимое должно кодироваться как Base64\n",
    "    file.add_header('Content-Disposition', 'attachment', filename=filename) # Добавляем заголовки\n",
    "    msg.attach(file)                                        # Присоединяем файл к сообщению"
   ]
  },
  {
   "cell_type": "code",
   "execution_count": 40,
   "id": "f323315f",
   "metadata": {},
   "outputs": [],
   "source": [
    "# send_email(addr_to, msg_subj, msg_text='', files='')\n",
    "file = ['test.xlsx']\n",
    "send_email('300195@mail.ru', 'Тест связи2', msg_text='А вот и текст2', files=file)"
   ]
  },
  {
   "cell_type": "code",
   "execution_count": null,
   "id": "eead8877",
   "metadata": {},
   "outputs": [],
   "source": []
  }
 ],
 "metadata": {
  "kernelspec": {
   "display_name": "Python 3",
   "language": "python",
   "name": "python3"
  },
  "language_info": {
   "codemirror_mode": {
    "name": "ipython",
    "version": 3
   },
   "file_extension": ".py",
   "mimetype": "text/x-python",
   "name": "python",
   "nbconvert_exporter": "python",
   "pygments_lexer": "ipython3",
   "version": "3.8.8"
  },
  "toc": {
   "base_numbering": 1,
   "nav_menu": {},
   "number_sections": true,
   "sideBar": true,
   "skip_h1_title": false,
   "title_cell": "Table of Contents",
   "title_sidebar": "Contents",
   "toc_cell": true,
   "toc_position": {},
   "toc_section_display": true,
   "toc_window_display": true
  },
  "varInspector": {
   "cols": {
    "lenName": 16,
    "lenType": 16,
    "lenVar": 40
   },
   "kernels_config": {
    "python": {
     "delete_cmd_postfix": "",
     "delete_cmd_prefix": "del ",
     "library": "var_list.py",
     "varRefreshCmd": "print(var_dic_list())"
    },
    "r": {
     "delete_cmd_postfix": ") ",
     "delete_cmd_prefix": "rm(",
     "library": "var_list.r",
     "varRefreshCmd": "cat(var_dic_list()) "
    }
   },
   "types_to_exclude": [
    "module",
    "function",
    "builtin_function_or_method",
    "instance",
    "_Feature"
   ],
   "window_display": false
  }
 },
 "nbformat": 4,
 "nbformat_minor": 5
}
