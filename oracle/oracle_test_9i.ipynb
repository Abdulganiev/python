{
 "cells": [
  {
   "cell_type": "markdown",
   "id": "0bca7ace",
   "metadata": {
    "toc": true
   },
   "source": [
    "<h1>Table of Contents<span class=\"tocSkip\"></span></h1>\n",
    "<div class=\"toc\"><ul class=\"toc-item\"></ul></div>"
   ]
  },
  {
   "cell_type": "code",
   "execution_count": 24,
   "id": "b5d0e368",
   "metadata": {},
   "outputs": [],
   "source": [
    "import pandas as pd\n",
    "import jaydebeapi\n",
    "import json\n",
    "import cx_Oracle"
   ]
  },
  {
   "cell_type": "code",
   "execution_count": null,
   "id": "2b2efaf2",
   "metadata": {},
   "outputs": [],
   "source": []
  },
  {
   "cell_type": "code",
   "execution_count": 2,
   "id": "6d65ba21",
   "metadata": {},
   "outputs": [],
   "source": [
    "path = \"access to the database.txt\"\n",
    "with open(path) as f:\n",
    "    access = json.load(f)\n",
    "    \n",
    "driver = 'ojdbc14.jar'\n",
    "path_base = access['path_base']\n",
    "password = access['password']\n",
    "login = access['login']\n",
    "port = access['port']\n",
    "sid = access['sid']\n",
    "\n",
    "conn = jaydebeapi.connect(\n",
    "    'oracle.jdbc.driver.OracleDriver',\n",
    "    f'jdbc:oracle:thin:{login}/{password}@{path_base}:{port}/{sid}',\n",
    "    [login, password],\n",
    "    driver)\n",
    "\n",
    "curs = conn.cursor()"
   ]
  },
  {
   "cell_type": "code",
   "execution_count": null,
   "id": "29c8e63a",
   "metadata": {},
   "outputs": [],
   "source": [
    "def addTable():\n",
    "    curs.execute(\n",
    "        '''insert into uszn.temp$_vozv \n",
    "           (F, I, O, SUMA, PR)\n",
    "            values(1, 'привет', '3', '4', '5')''')\n",
    "    \n",
    "def delTable():\n",
    "    curs.execute('''delete from uszn.temp$_vozv''')    "
   ]
  },
  {
   "cell_type": "code",
   "execution_count": null,
   "id": "52269142",
   "metadata": {},
   "outputs": [],
   "source": [
    "def ShowCountTable():\n",
    "    curs.execute('''select count(*) from uszn.temp$_vozv''')\n",
    "    print(curs.fetchall())\n",
    "    \n",
    "def ShowTable():\n",
    "    curs.execute('''select * from uszn.tsrv_user_groups''')\n",
    "    for row in curs.fetchall():\n",
    "        print(row)\n",
    "    \n"
   ]
  },
  {
   "cell_type": "code",
   "execution_count": null,
   "id": "ce60c748",
   "metadata": {},
   "outputs": [],
   "source": [
    "ShowTable()"
   ]
  },
  {
   "cell_type": "code",
   "execution_count": null,
   "id": "ed439bfe",
   "metadata": {},
   "outputs": [],
   "source": [
    "delTable()"
   ]
  },
  {
   "cell_type": "code",
   "execution_count": null,
   "id": "cdffdac8",
   "metadata": {},
   "outputs": [],
   "source": [
    "curs.execute('''\n",
    "    select *\n",
    "        from uszn.temp$_vozv\n",
    "    ''')\n",
    "for row in curs.fetchall():\n",
    "    print(row)"
   ]
  },
  {
   "cell_type": "code",
   "execution_count": null,
   "id": "0445d0e8",
   "metadata": {},
   "outputs": [],
   "source": [
    "curs.execute('''select count(*) from uszn.temp$_vozv''')\n",
    "print(curs.fetchall())"
   ]
  },
  {
   "cell_type": "code",
   "execution_count": 29,
   "id": "581bf824",
   "metadata": {},
   "outputs": [],
   "source": [
    "def zags():\n",
    "    curs.execute('''\n",
    "    select \n",
    "       REPLACE(uszn.pkGen.BLOBToCLOB(msg.message_data, 'UTF8'),'<?xml version=\"1.0\" encoding=\"UTF-8\" ?>')\n",
    "    from uszn.all_smev3_inc_messages msg\n",
    "where\n",
    "  message_kind_id=1 and\n",
    "  data_kind_region_id=0 and\n",
    "  data_kind_id in (\n",
    "    /* старые форматы */ 16, 17, 18, 19, 20,\n",
    "    /* новые форматы */ 28, 29, 30, 31, 32, 33) and\n",
    "  Trunc(date_created, 'dd') between ADD_MONTHS(TRUNC(sysdate,'mm'),-1) and sysdate\n",
    "order by date_created, id\n",
    "    ''')\n",
    "    with open('zagz.xml', 'w') as f:\n",
    "        f.write('<?xml version=\"1.0\" encoding=\"UTF-8\" ?>')\n",
    "        f.write('<SOAP-ENV:Envelope xmlns:SOAP-ENV=\"http://schemas.xmlsoap.org/soap/envelope/\">')\n",
    "        for row in curs.fetchall():\n",
    "            f.write('\\n')\n",
    "#             f.write(row[0] )\n",
    "            print(str(row[0][0]))\n",
    "            n = input()\n",
    "            if n == '1':\n",
    "                break\n",
    "        f.write('\\n')\n",
    "        f.write('</SOAP-ENV:Envelope>')"
   ]
  },
  {
   "cell_type": "code",
   "execution_count": 30,
   "id": "e56567d8",
   "metadata": {},
   "outputs": [
    {
     "ename": "TypeError",
     "evalue": "'oracle.sql.CLOB' object is not subscriptable",
     "output_type": "error",
     "traceback": [
      "\u001b[1;31m---------------------------------------------------------------------------\u001b[0m",
      "\u001b[1;31mTypeError\u001b[0m                                 Traceback (most recent call last)",
      "\u001b[1;32m<ipython-input-30-acc6f2f49e6e>\u001b[0m in \u001b[0;36m<module>\u001b[1;34m\u001b[0m\n\u001b[1;32m----> 1\u001b[1;33m \u001b[0mzags\u001b[0m\u001b[1;33m(\u001b[0m\u001b[1;33m)\u001b[0m\u001b[1;33m\u001b[0m\u001b[1;33m\u001b[0m\u001b[0m\n\u001b[0m",
      "\u001b[1;32m<ipython-input-29-919f3f7b37af>\u001b[0m in \u001b[0;36mzags\u001b[1;34m()\u001b[0m\n\u001b[0;32m     19\u001b[0m             \u001b[0mf\u001b[0m\u001b[1;33m.\u001b[0m\u001b[0mwrite\u001b[0m\u001b[1;33m(\u001b[0m\u001b[1;34m'\\n'\u001b[0m\u001b[1;33m)\u001b[0m\u001b[1;33m\u001b[0m\u001b[1;33m\u001b[0m\u001b[0m\n\u001b[0;32m     20\u001b[0m \u001b[1;31m#             f.write(row[0] )\u001b[0m\u001b[1;33m\u001b[0m\u001b[1;33m\u001b[0m\u001b[1;33m\u001b[0m\u001b[0m\n\u001b[1;32m---> 21\u001b[1;33m             \u001b[0mprint\u001b[0m\u001b[1;33m(\u001b[0m\u001b[0mstr\u001b[0m\u001b[1;33m(\u001b[0m\u001b[0mrow\u001b[0m\u001b[1;33m[\u001b[0m\u001b[1;36m0\u001b[0m\u001b[1;33m]\u001b[0m\u001b[1;33m[\u001b[0m\u001b[1;36m0\u001b[0m\u001b[1;33m]\u001b[0m\u001b[1;33m)\u001b[0m\u001b[1;33m)\u001b[0m\u001b[1;33m\u001b[0m\u001b[1;33m\u001b[0m\u001b[0m\n\u001b[0m\u001b[0;32m     22\u001b[0m             \u001b[0mn\u001b[0m \u001b[1;33m=\u001b[0m \u001b[0minput\u001b[0m\u001b[1;33m(\u001b[0m\u001b[1;33m)\u001b[0m\u001b[1;33m\u001b[0m\u001b[1;33m\u001b[0m\u001b[0m\n\u001b[0;32m     23\u001b[0m             \u001b[1;32mif\u001b[0m \u001b[0mn\u001b[0m \u001b[1;33m==\u001b[0m \u001b[1;34m'1'\u001b[0m\u001b[1;33m:\u001b[0m\u001b[1;33m\u001b[0m\u001b[1;33m\u001b[0m\u001b[0m\n",
      "\u001b[1;31mTypeError\u001b[0m: 'oracle.sql.CLOB' object is not subscriptable"
     ]
    }
   ],
   "source": [
    "zags()"
   ]
  },
  {
   "cell_type": "code",
   "execution_count": 40,
   "id": "2d53090a",
   "metadata": {},
   "outputs": [],
   "source": [
    "def alarm_ep():\n",
    "    curs.execute(\n",
    "    '''select count(*) from\n",
    "     (select id\n",
    "       from uszn.all_smev3_inc_messages\n",
    "       where date_created>=To_Date('01.01.2021') and proc_status_id in (3))'''\n",
    "    )\n",
    "    cnt = int(curs.fetchall()[0][0])\n",
    "    # print(cnt, type(cnt))\n",
    "    if cnt > 0:\n",
    "        curs.execute(\n",
    "        '''\n",
    "        declare\n",
    "          iiIDs        uszn.pkGen.TIntegers;\n",
    "          i$ Pls_Integer;\n",
    "        begin\n",
    "        select id bulk collect into iiIDs\n",
    "          from uszn.all_smev3_inc_messages\n",
    "          where date_created>=To_Date('01.01.2021') and proc_status_id in (3);\n",
    "          for i in 1..iiIDs.count loop\n",
    "            begin\n",
    "              i$ := uszn.pkSMEV3.ProcessInMessage(iiIDs(i), 1, 1,'Принудительная обработка входящего сообщения СМЭВ-3');\n",
    "            commit;\n",
    "            exception\n",
    "              when Others then\n",
    "                rollback;\n",
    "                raise;\n",
    "            end;\n",
    "          end loop;\n",
    "        end;\n",
    "        '''\n",
    "        )"
   ]
  },
  {
   "cell_type": "code",
   "execution_count": 41,
   "id": "8c4bfd89",
   "metadata": {},
   "outputs": [],
   "source": [
    "alarm_ep()"
   ]
  },
  {
   "cell_type": "code",
   "execution_count": null,
   "id": "cc594a04",
   "metadata": {},
   "outputs": [],
   "source": []
  }
 ],
 "metadata": {
  "kernelspec": {
   "display_name": "Python 3",
   "language": "python",
   "name": "python3"
  },
  "language_info": {
   "codemirror_mode": {
    "name": "ipython",
    "version": 3
   },
   "file_extension": ".py",
   "mimetype": "text/x-python",
   "name": "python",
   "nbconvert_exporter": "python",
   "pygments_lexer": "ipython3",
   "version": "3.8.8"
  },
  "toc": {
   "base_numbering": 1,
   "nav_menu": {},
   "number_sections": true,
   "sideBar": true,
   "skip_h1_title": false,
   "title_cell": "Table of Contents",
   "title_sidebar": "Contents",
   "toc_cell": true,
   "toc_position": {},
   "toc_section_display": true,
   "toc_window_display": true
  },
  "varInspector": {
   "cols": {
    "lenName": 16,
    "lenType": 16,
    "lenVar": 40
   },
   "kernels_config": {
    "python": {
     "delete_cmd_postfix": "",
     "delete_cmd_prefix": "del ",
     "library": "var_list.py",
     "varRefreshCmd": "print(var_dic_list())"
    },
    "r": {
     "delete_cmd_postfix": ") ",
     "delete_cmd_prefix": "rm(",
     "library": "var_list.r",
     "varRefreshCmd": "cat(var_dic_list()) "
    }
   },
   "types_to_exclude": [
    "module",
    "function",
    "builtin_function_or_method",
    "instance",
    "_Feature"
   ],
   "window_display": false
  }
 },
 "nbformat": 4,
 "nbformat_minor": 5
}
