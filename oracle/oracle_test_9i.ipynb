{
 "cells": [
  {
   "cell_type": "markdown",
   "id": "b026f6c4",
   "metadata": {
    "toc": true
   },
   "source": [
    "<h1>Table of Contents<span class=\"tocSkip\"></span></h1>\n",
    "<div class=\"toc\"><ul class=\"toc-item\"></ul></div>"
   ]
  },
  {
   "cell_type": "code",
   "execution_count": 159,
   "id": "c3a10d7d",
   "metadata": {},
   "outputs": [],
   "source": [
    "import pandas as pd\n",
    "import jaydebeapi\n",
    "import json\n",
    "\n",
    "from datetime import datetime\n",
    "import datetime as dt"
   ]
  },
  {
   "cell_type": "code",
   "execution_count": null,
   "id": "6d16b6a3",
   "metadata": {},
   "outputs": [],
   "source": []
  },
  {
   "cell_type": "code",
   "execution_count": 110,
   "id": "2f509264",
   "metadata": {},
   "outputs": [],
   "source": [
    "path = \"access to the database.txt\"\n",
    "with open(path) as f:\n",
    "    access = json.load(f)\n",
    "    \n",
    "driver = 'ojdbc14.jar'\n",
    "path_base = access['path_base']\n",
    "password = access['password']\n",
    "login = access['login']\n",
    "port = access['port']\n",
    "sid = access['sid']\n",
    "\n",
    "conn = jaydebeapi.connect(\n",
    "    'oracle.jdbc.driver.OracleDriver',\n",
    "    f'jdbc:oracle:thin:{login}/{password}@{path_base}:{port}/{sid}',\n",
    "    [login, password],\n",
    "    driver)\n",
    "\n",
    "curs = conn.cursor()"
   ]
  },
  {
   "cell_type": "code",
   "execution_count": null,
   "id": "198cc680",
   "metadata": {},
   "outputs": [],
   "source": [
    "def addTable():\n",
    "    curs.execute(\n",
    "        '''insert into uszn.temp$_vozv \n",
    "           (F, I, O, SUMA, PR)\n",
    "            values(1, 'привет', '3', '4', '5')''')\n",
    "    \n",
    "def delTable():\n",
    "    curs.execute('''delete from uszn.temp$_vozv''')    "
   ]
  },
  {
   "cell_type": "code",
   "execution_count": null,
   "id": "7e95368b",
   "metadata": {},
   "outputs": [],
   "source": [
    "def ShowCountTable():\n",
    "    curs.execute('''select count(*) from uszn.temp$_vozv''')\n",
    "    print(curs.fetchall())\n",
    "    \n",
    "def ShowTable():\n",
    "    curs.execute('''select * from uszn.tsrv_user_groups''')\n",
    "    for row in curs.fetchall():\n",
    "        print(row)\n",
    "    \n"
   ]
  },
  {
   "cell_type": "code",
   "execution_count": null,
   "id": "91f70119",
   "metadata": {},
   "outputs": [],
   "source": [
    "ShowTable()"
   ]
  },
  {
   "cell_type": "code",
   "execution_count": null,
   "id": "98a08716",
   "metadata": {},
   "outputs": [],
   "source": [
    "delTable()"
   ]
  },
  {
   "cell_type": "code",
   "execution_count": null,
   "id": "8d828112",
   "metadata": {},
   "outputs": [],
   "source": [
    "curs.execute('''\n",
    "    select *\n",
    "        from uszn.temp$_vozv\n",
    "    ''')\n",
    "for row in curs.fetchall():\n",
    "    print(row)"
   ]
  },
  {
   "cell_type": "code",
   "execution_count": null,
   "id": "688f3d1c",
   "metadata": {},
   "outputs": [],
   "source": [
    "curs.execute('''select count(*) from uszn.temp$_vozv''')\n",
    "print(curs.fetchall())"
   ]
  },
  {
   "cell_type": "code",
   "execution_count": 44,
   "id": "882486cb",
   "metadata": {},
   "outputs": [],
   "source": [
    "def zags():\n",
    "    curs.execute('''\n",
    "    select \n",
    "       REPLACE(uszn.pkGen.BLOBToCLOB(msg.message_data, 'UTF8'),'<?xml version=\"1.0\" encoding=\"UTF-8\" ?>')\n",
    "    from uszn.all_smev3_inc_messages msg\n",
    "where\n",
    "  message_kind_id=1 and\n",
    "  data_kind_region_id=0 and\n",
    "  data_kind_id in (\n",
    "    /* старые форматы */ 16, 17, 18, 19, 20,\n",
    "    /* новые форматы */ 28, 29, 30, 31, 32, 33) and\n",
    "  Trunc(date_created, 'dd') between ADD_MONTHS(TRUNC(sysdate,'mm'),-1) and sysdate\n",
    "order by date_created, id\n",
    "    ''')\n",
    "    with open('zagz.xml', 'w') as f:\n",
    "        f.write('<?xml version=\"1.0\" encoding=\"UTF-8\" ?>')\n",
    "        f.write('<SOAP-ENV:Envelope xmlns:SOAP-ENV=\"http://schemas.xmlsoap.org/soap/envelope/\">')\n",
    "        for row in curs.fetchall():\n",
    "            f.write('\\n')\n",
    "#             f.write(row[0] )\n",
    "            print(str(row[0][0]))\n",
    "            n = input()\n",
    "            if n == '1':\n",
    "                break\n",
    "        f.write('\\n')\n",
    "        f.write('</SOAP-ENV:Envelope>')"
   ]
  },
  {
   "cell_type": "code",
   "execution_count": 45,
   "id": "21e791f3",
   "metadata": {},
   "outputs": [
    {
     "ename": "TypeError",
     "evalue": "'oracle.sql.CLOB' object is not subscriptable",
     "output_type": "error",
     "traceback": [
      "\u001b[1;31m---------------------------------------------------------------------------\u001b[0m",
      "\u001b[1;31mTypeError\u001b[0m                                 Traceback (most recent call last)",
      "\u001b[1;32m<ipython-input-45-acc6f2f49e6e>\u001b[0m in \u001b[0;36m<module>\u001b[1;34m\u001b[0m\n\u001b[1;32m----> 1\u001b[1;33m \u001b[0mzags\u001b[0m\u001b[1;33m(\u001b[0m\u001b[1;33m)\u001b[0m\u001b[1;33m\u001b[0m\u001b[1;33m\u001b[0m\u001b[0m\n\u001b[0m",
      "\u001b[1;32m<ipython-input-44-919f3f7b37af>\u001b[0m in \u001b[0;36mzags\u001b[1;34m()\u001b[0m\n\u001b[0;32m     19\u001b[0m             \u001b[0mf\u001b[0m\u001b[1;33m.\u001b[0m\u001b[0mwrite\u001b[0m\u001b[1;33m(\u001b[0m\u001b[1;34m'\\n'\u001b[0m\u001b[1;33m)\u001b[0m\u001b[1;33m\u001b[0m\u001b[1;33m\u001b[0m\u001b[0m\n\u001b[0;32m     20\u001b[0m \u001b[1;31m#             f.write(row[0] )\u001b[0m\u001b[1;33m\u001b[0m\u001b[1;33m\u001b[0m\u001b[1;33m\u001b[0m\u001b[0m\n\u001b[1;32m---> 21\u001b[1;33m             \u001b[0mprint\u001b[0m\u001b[1;33m(\u001b[0m\u001b[0mstr\u001b[0m\u001b[1;33m(\u001b[0m\u001b[0mrow\u001b[0m\u001b[1;33m[\u001b[0m\u001b[1;36m0\u001b[0m\u001b[1;33m]\u001b[0m\u001b[1;33m[\u001b[0m\u001b[1;36m0\u001b[0m\u001b[1;33m]\u001b[0m\u001b[1;33m)\u001b[0m\u001b[1;33m)\u001b[0m\u001b[1;33m\u001b[0m\u001b[1;33m\u001b[0m\u001b[0m\n\u001b[0m\u001b[0;32m     22\u001b[0m             \u001b[0mn\u001b[0m \u001b[1;33m=\u001b[0m \u001b[0minput\u001b[0m\u001b[1;33m(\u001b[0m\u001b[1;33m)\u001b[0m\u001b[1;33m\u001b[0m\u001b[1;33m\u001b[0m\u001b[0m\n\u001b[0;32m     23\u001b[0m             \u001b[1;32mif\u001b[0m \u001b[0mn\u001b[0m \u001b[1;33m==\u001b[0m \u001b[1;34m'1'\u001b[0m\u001b[1;33m:\u001b[0m\u001b[1;33m\u001b[0m\u001b[1;33m\u001b[0m\u001b[0m\n",
      "\u001b[1;31mTypeError\u001b[0m: 'oracle.sql.CLOB' object is not subscriptable"
     ]
    }
   ],
   "source": [
    "zags()"
   ]
  },
  {
   "cell_type": "code",
   "execution_count": 53,
   "id": "15c592f9",
   "metadata": {},
   "outputs": [],
   "source": [
    "def alarm_ep():\n",
    "    curs.execute(\n",
    "    '''select count(*) from\n",
    "     (select id\n",
    "       from uszn.all_smev3_inc_messages\n",
    "       where date_created>=To_Date('01.01.2021') and proc_status_id in (3))'''\n",
    "    )\n",
    "    cnt = int(curs.fetchall()[0][0])\n",
    "    print(cnt)\n",
    "    if cnt > 0:\n",
    "        curs.execute(\n",
    "        '''\n",
    "        declare\n",
    "          iiIDs        uszn.pkGen.TIntegers;\n",
    "          i$ Pls_Integer;\n",
    "        begin\n",
    "        select id bulk collect into iiIDs\n",
    "          from uszn.all_smev3_inc_messages\n",
    "          where date_created>=To_Date('01.01.2021') and proc_status_id in (3);\n",
    "          for i in 1..iiIDs.count loop\n",
    "            begin\n",
    "              i$ := uszn.pkSMEV3.ProcessInMessage(iiIDs(i), 1, 1,'Принудительная обработка входящего сообщения СМЭВ-3');\n",
    "            commit;\n",
    "            exception\n",
    "              when Others then\n",
    "                rollback;\n",
    "                raise;\n",
    "            end;\n",
    "          end loop;\n",
    "        end;\n",
    "        '''\n",
    "        )\n",
    "        with open('alarm_ep.txt', 'w') as f:\n",
    "            f.write('*************************************\\n>')\n",
    "            f,write(cnt)\n",
    "            f.write('\\n')\n",
    "            f.write('*************************************\\n>')"
   ]
  },
  {
   "cell_type": "code",
   "execution_count": 54,
   "id": "41fe95a5",
   "metadata": {},
   "outputs": [
    {
     "name": "stdout",
     "output_type": "stream",
     "text": [
      "0\n"
     ]
    }
   ],
   "source": [
    "alarm_ep()"
   ]
  },
  {
   "cell_type": "code",
   "execution_count": 131,
   "id": "2d03805a",
   "metadata": {},
   "outputs": [],
   "source": [
    "def GKH():\n",
    "    curs.execute('''\n",
    "select region_id,\n",
    "       uszn.pkTSrv.GetRegionName(region_id),\n",
    "       sum(fam_memb),\n",
    "       sum(cnt),\n",
    "       sum(area)\n",
    "from\n",
    "(select region_id,\n",
    "       --n_row,\n",
    "       Ceil(Sum(pc_count)) as fam_memb,\n",
    "       Count(*) as cnt,\n",
    "       Max(area) as area\n",
    "   from (\n",
    "     select data.region_id,\n",
    "            data.coll_id,\n",
    "            data.pc_count,\n",
    "            case when levels.lvl=3 then 41 end as n_row,\n",
    "            uszn.ToNumberDef(uszn.pkPerson.GetRawPCReqValueOnDate(data.region_id, data.coll_id, 3760, 3845, null, data.payout_date), 0) as area\n",
    "        from (\n",
    "          select id as lvl\n",
    "            from uszn.u_dummy\n",
    "            where id<=3) levels,\n",
    "         (with mapped_pkafs as\n",
    "             (select int_region_id as pkaf_region_id,\n",
    "                     int_id as pkaf_id,\n",
    "                     uszn.ToIntDef(ext_code) as cat_code\n",
    "                 from uszn.dic_data_exchange_mappings\n",
    "                 where kind_id=70 and\n",
    "                       ext_region_id not in (71, 72) and\n",
    "                       uszn.ToIntDef(ext_code) not in (40, 50) and\n",
    "                       ((uszn.ToIntDef(ext_code) between 10 and 150) or (uszn.ToIntDef(ext_code) between 340 and 351) ))\n",
    "select a.region_id,\n",
    "    a.pka_people_coll_id as people_id,\n",
    "    a.poi_payout_date as payout_date,\n",
    "    a.pc_count_applied_to as pc_count,\n",
    "    uszn.pkOutDocCol.GetPFRF_Cat( a.region_id, a.pka_people_coll_id, a.pkaf_region_id, a.pkaf_id, Trunc(a.poi_payout_date, 'mm'),\n",
    "    Last_Day(a.poi_payout_date)) as n_cat, uszn.pkPic.GetCollByRole(a.region_id, a.pka_people_coll_id, 46, a.poi_payout_date, 0, 0) as coll_id\n",
    " from uszn.all_po_amounts a\n",
    " where (a.region_id, a.id) in (\n",
    "    select a.region_id,\n",
    "           First_Value(a.id) over (partition by a.region_id, a.poi_assigned_id order by a.poi_payout_date desc, a.pc_count_applied_to desc, a.income_date desc, a.id) as amount_id\n",
    "        from uszn.all_po_amounts a\n",
    "        where a.region_id not in (71, 72) and\n",
    "              (a.pka_kind_region_id, a.pka_kind_id) in ((104,29)) and\n",
    "              a.finsrc_region_id=0 and a.finsrc_id=1 and a.status_kind_id=2 and\n",
    "              a.poi_payout_date between TRUNC(ADD_MONTHS(SYSDATE,-1),'MM') and TRUNC(SYSDATE,'MM')-1 and\n",
    "              (((a.pkaf_region_id, a.pkaf_id) in ((104, 339)) and\n",
    "              Exists( select 1\n",
    "                        from uszn.r_personal_doc_instances d,\n",
    "                             mapped_pkafs m\n",
    "                           where d.region_id=a.region_id and d.people_coll_id=a.pka_people_coll_id and\n",
    "                                 d.class_id=7116 and m.pkaf_region_id*1000000+m.pkaf_id=uszn.ToIntDef(d.value) ))\n",
    "                                 or\n",
    "                                 (a.pkaf_region_id, a.pkaf_id) in (select pkaf_region_id, pkaf_id from mapped_pkafs) )))data)\n",
    "                                 where n_row is not null\n",
    "                                 group by n_row,\n",
    "                                       region_id, coll_id)\n",
    "group by region_id''')\n",
    "#     data = pd.DataFrame()\n",
    "    data = {\n",
    "         'id МО' : [] ,\n",
    "         'Название МО' : [] ,\n",
    "         'Всего' : [] ,\n",
    "         'в том числе льготники' : [] ,\n",
    "         'площадь' : []             \n",
    "        }\n",
    "    for row in curs.fetchall():\n",
    "#         print(row[0], row[1], row[2], row[3], row[4])\n",
    "        data['id МО'].append(row[0])\n",
    "        data['Название МО'].append(row[1])\n",
    "        data['Всего'].append(row[2])\n",
    "        data['в том числе льготники'].append(row[3])\n",
    "        data['площадь'].append(row[4])\n",
    "        \n",
    "    df = pd.DataFrame(data)\n",
    "    \n",
    "    today = dt.date.today()\n",
    "    first = today.replace(day=1)\n",
    "    lastMonth = first - dt.timedelta(days=1)\n",
    "    date_report = lastMonth.strftime('%m.%Y')\n",
    "    \n",
    "    file_name = f'отчет ЖКВ за {date_report} в разрезе МО'+ '.xlsx'\n",
    "    df.to_excel(file_name, index=False)\n",
    "        \n",
    "                 "
   ]
  },
  {
   "cell_type": "code",
   "execution_count": 132,
   "id": "dbb9a1f1",
   "metadata": {},
   "outputs": [],
   "source": [
    "GKH()"
   ]
  },
  {
   "cell_type": "code",
   "execution_count": 122,
   "id": "cff05597",
   "metadata": {},
   "outputs": [
    {
     "data": {
      "text/plain": [
       "{'id МО': ['58', 'row[0]'],\n",
       " 'Название МО': ['row[1]'],\n",
       " 'Всего': [],\n",
       " 'в том числе льготники': [],\n",
       " 'площадь': []}"
      ]
     },
     "execution_count": 122,
     "metadata": {},
     "output_type": "execute_result"
    }
   ],
   "source": [
    "data"
   ]
  },
  {
   "cell_type": "code",
   "execution_count": 160,
   "id": "b39e0e50",
   "metadata": {},
   "outputs": [],
   "source": [
    "d = datetime.now().strftime('%d.%m.%Y')\n",
    "year = datetime.now().strftime('%Y')\n",
    "month = datetime.now().strftime('%m')\n",
    "\n",
    "today = dt.date.today()\n",
    "first = today.replace(day=1)\n",
    "lastMonth = first - dt.timedelta(days=1)\n",
    "date_report = lastMonth.strftime('%m.%Y')"
   ]
  },
  {
   "cell_type": "code",
   "execution_count": 162,
   "id": "2097ccdb",
   "metadata": {},
   "outputs": [
    {
     "name": "stdout",
     "output_type": "stream",
     "text": [
      "отчет ЖКВ за 03.2022 в разрезе МО\n"
     ]
    }
   ],
   "source": [
    "file_name = f'отчет ЖКВ за {date_report} в разрезе МО'\n",
    "print(file_name)"
   ]
  },
  {
   "cell_type": "code",
   "execution_count": 164,
   "id": "d3f109d2",
   "metadata": {},
   "outputs": [
    {
     "name": "stdout",
     "output_type": "stream",
     "text": [
      "03.2022\n"
     ]
    }
   ],
   "source": [
    "today = dt.date.today()\n",
    "first = today.replace(day=1)\n",
    "lastMonth = first - dt.timedelta(days=1)\n",
    "print(lastMonth.strftime('%m.%Y'))"
   ]
  },
  {
   "cell_type": "code",
   "execution_count": 152,
   "id": "5787337d",
   "metadata": {},
   "outputs": [
    {
     "name": "stdout",
     "output_type": "stream",
     "text": [
      "2022-04-16\n"
     ]
    }
   ],
   "source": [
    "print(today)"
   ]
  },
  {
   "cell_type": "code",
   "execution_count": 153,
   "id": "eb8565c7",
   "metadata": {},
   "outputs": [
    {
     "name": "stdout",
     "output_type": "stream",
     "text": [
      "2022-04-01\n"
     ]
    }
   ],
   "source": [
    "print(first)"
   ]
  },
  {
   "cell_type": "code",
   "execution_count": 154,
   "id": "35304d13",
   "metadata": {},
   "outputs": [
    {
     "name": "stdout",
     "output_type": "stream",
     "text": [
      "1 day, 0:00:00\n"
     ]
    }
   ],
   "source": [
    "print(datetime.timedelta(days=1))"
   ]
  },
  {
   "cell_type": "code",
   "execution_count": 171,
   "id": "19da1ef2",
   "metadata": {},
   "outputs": [
    {
     "name": "stdout",
     "output_type": "stream",
     "text": [
      "2022-04-16 16:40:20\n"
     ]
    }
   ],
   "source": [
    "print(datetime.now().strftime('%Y-%m-%d %H:%M:%S'))"
   ]
  },
  {
   "cell_type": "code",
   "execution_count": 174,
   "id": "d9eca111",
   "metadata": {},
   "outputs": [
    {
     "name": "stdout",
     "output_type": "stream",
     "text": [
      "58\n",
      "'ЖКВ-1'\n",
      "'ЖКВ-2'\n",
      "'ЖКВ-3'\n",
      "59\n",
      "'ЖКВ-1'\n",
      "'ЖКВ-2'\n",
      "'ЖКВ-3'\n",
      "60\n",
      "'ЖКВ-1'\n",
      "'ЖКВ-2'\n",
      "'ЖКВ-3'\n",
      "61\n",
      "'ЖКВ-1'\n",
      "'ЖКВ-2'\n",
      "'ЖКВ-3'\n",
      "62\n",
      "'ЖКВ-1'\n",
      "'ЖКВ-2'\n",
      "'ЖКВ-3'\n",
      "63\n",
      "'ЖКВ-1'\n",
      "'ЖКВ-2'\n",
      "'ЖКВ-3'\n",
      "64\n",
      "'ЖКВ-1'\n",
      "'ЖКВ-2'\n",
      "'ЖКВ-3'\n",
      "65\n",
      "'ЖКВ-1'\n",
      "'ЖКВ-2'\n",
      "'ЖКВ-3'\n",
      "66\n",
      "'ЖКВ-1'\n",
      "'ЖКВ-2'\n",
      "'ЖКВ-3'\n",
      "67\n",
      "'ЖКВ-1'\n",
      "'ЖКВ-2'\n",
      "'ЖКВ-3'\n",
      "68\n",
      "'ЖКВ-1'\n",
      "'ЖКВ-2'\n",
      "'ЖКВ-3'\n",
      "69\n",
      "'ЖКВ-1'\n",
      "'ЖКВ-2'\n",
      "'ЖКВ-3'\n",
      "70\n",
      "'ЖКВ-1'\n",
      "'ЖКВ-2'\n",
      "'ЖКВ-3'\n"
     ]
    }
   ],
   "source": [
    "for region_id in range(58,71):\n",
    "    print(region_id)\n",
    "    for row in range(1,4):\n",
    "        name_collection = f\"'ЖКВ-{row}'\"\n",
    "        print(name_collection)"
   ]
  },
  {
   "cell_type": "code",
   "execution_count": null,
   "id": "33cfb353",
   "metadata": {},
   "outputs": [],
   "source": []
  }
 ],
 "metadata": {
  "kernelspec": {
   "display_name": "Python 3",
   "language": "python",
   "name": "python3"
  },
  "language_info": {
   "codemirror_mode": {
    "name": "ipython",
    "version": 3
   },
   "file_extension": ".py",
   "mimetype": "text/x-python",
   "name": "python",
   "nbconvert_exporter": "python",
   "pygments_lexer": "ipython3",
   "version": "3.8.8"
  },
  "toc": {
   "base_numbering": 1,
   "nav_menu": {},
   "number_sections": true,
   "sideBar": true,
   "skip_h1_title": false,
   "title_cell": "Table of Contents",
   "title_sidebar": "Contents",
   "toc_cell": true,
   "toc_position": {},
   "toc_section_display": true,
   "toc_window_display": true
  },
  "varInspector": {
   "cols": {
    "lenName": 16,
    "lenType": 16,
    "lenVar": 40
   },
   "kernels_config": {
    "python": {
     "delete_cmd_postfix": "",
     "delete_cmd_prefix": "del ",
     "library": "var_list.py",
     "varRefreshCmd": "print(var_dic_list())"
    },
    "r": {
     "delete_cmd_postfix": ") ",
     "delete_cmd_prefix": "rm(",
     "library": "var_list.r",
     "varRefreshCmd": "cat(var_dic_list()) "
    }
   },
   "types_to_exclude": [
    "module",
    "function",
    "builtin_function_or_method",
    "instance",
    "_Feature"
   ],
   "window_display": false
  }
 },
 "nbformat": 4,
 "nbformat_minor": 5
}
