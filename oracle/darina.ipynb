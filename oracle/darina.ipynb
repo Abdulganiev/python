{
 "cells": [
  {
   "cell_type": "markdown",
   "id": "403045b6",
   "metadata": {
    "toc": true
   },
   "source": [
    "<h1>Table of Contents<span class=\"tocSkip\"></span></h1>\n",
    "<div class=\"toc\"><ul class=\"toc-item\"></ul></div>"
   ]
  },
  {
   "cell_type": "markdown",
   "id": "1e08b368",
   "metadata": {},
   "source": [
    "Автомат получает на вход трёхзначное число. По этому числу строится новое число по следующим правилам.\n",
    "\n",
    "1. Складываются первая и вторая, а также вторая и третья цифры исходного числа.\n",
    "2. Полученные два числа записываются друг за другом в порядке убывания (без разделителей).\n",
    "\n",
    "Пример. Исходное число: 359. Суммы: 3 + 5 = 8; 5 + 9 = 14. Результат: 148.\n",
    "\n",
    "Укажите наименьшее число, в результате обработки которого автомат выдаст число 1410."
   ]
  },
  {
   "cell_type": "code",
   "execution_count": 2,
   "id": "fdedc986",
   "metadata": {},
   "outputs": [
    {
     "name": "stdout",
     "output_type": "stream",
     "text": [
      "195\n"
     ]
    }
   ],
   "source": [
    "def alg(n):\n",
    "    sum1 = (n//100) + (n//10%10)\n",
    "    sum2 = (n//10%10) + (n%10)\n",
    "    l = ''\n",
    "    if sum1 > sum2:\n",
    "        l = str(sum1)+str(sum2)\n",
    "    else:\n",
    "        l = str(sum2)+str(sum1)\n",
    "    return l\n",
    "\n",
    "for i in range(100, 1000):\n",
    "    if alg(i) == '1410':\n",
    "        print(i)\n",
    "        break"
   ]
  },
  {
   "cell_type": "code",
   "execution_count": null,
   "id": "2c8e4197",
   "metadata": {},
   "outputs": [],
   "source": []
  }
 ],
 "metadata": {
  "kernelspec": {
   "display_name": "Python 3",
   "language": "python",
   "name": "python3"
  },
  "language_info": {
   "codemirror_mode": {
    "name": "ipython",
    "version": 3
   },
   "file_extension": ".py",
   "mimetype": "text/x-python",
   "name": "python",
   "nbconvert_exporter": "python",
   "pygments_lexer": "ipython3",
   "version": "3.8.8"
  },
  "toc": {
   "base_numbering": 1,
   "nav_menu": {},
   "number_sections": true,
   "sideBar": true,
   "skip_h1_title": false,
   "title_cell": "Table of Contents",
   "title_sidebar": "Contents",
   "toc_cell": true,
   "toc_position": {},
   "toc_section_display": true,
   "toc_window_display": true
  },
  "varInspector": {
   "cols": {
    "lenName": 16,
    "lenType": 16,
    "lenVar": 40
   },
   "kernels_config": {
    "python": {
     "delete_cmd_postfix": "",
     "delete_cmd_prefix": "del ",
     "library": "var_list.py",
     "varRefreshCmd": "print(var_dic_list())"
    },
    "r": {
     "delete_cmd_postfix": ") ",
     "delete_cmd_prefix": "rm(",
     "library": "var_list.r",
     "varRefreshCmd": "cat(var_dic_list()) "
    }
   },
   "types_to_exclude": [
    "module",
    "function",
    "builtin_function_or_method",
    "instance",
    "_Feature"
   ],
   "window_display": false
  }
 },
 "nbformat": 4,
 "nbformat_minor": 5
}
