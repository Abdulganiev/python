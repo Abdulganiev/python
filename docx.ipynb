{
 "cells": [
  {
   "cell_type": "markdown",
   "id": "5fc08ccc",
   "metadata": {
    "toc": true
   },
   "source": [
    "<h1>Table of Contents<span class=\"tocSkip\"></span></h1>\n",
    "<div class=\"toc\"><ul class=\"toc-item\"></ul></div>"
   ]
  },
  {
   "cell_type": "code",
   "execution_count": 9,
   "id": "c61f8cbc",
   "metadata": {},
   "outputs": [],
   "source": [
    "from docx import Document"
   ]
  },
  {
   "cell_type": "code",
   "execution_count": 10,
   "id": "0aee4e84",
   "metadata": {},
   "outputs": [],
   "source": [
    "document = Document('Акт запрос МВД на 01.11.2022.docx')"
   ]
  },
  {
   "cell_type": "code",
   "execution_count": 12,
   "id": "6cc51ea3",
   "metadata": {},
   "outputs": [
    {
     "data": {
      "text/plain": [
       "12"
      ]
     },
     "execution_count": 12,
     "metadata": {},
     "output_type": "execute_result"
    }
   ],
   "source": [
    "len(document.paragraphs)"
   ]
  },
  {
   "cell_type": "code",
   "execution_count": 23,
   "id": "d294ee64",
   "metadata": {},
   "outputs": [
    {
     "data": {
      "text/plain": [
       "'по состоянию на «01» ноября 2022 г.'"
      ]
     },
     "execution_count": 23,
     "metadata": {},
     "output_type": "execute_result"
    }
   ],
   "source": [
    "document.paragraphs[3].text"
   ]
  },
  {
   "cell_type": "code",
   "execution_count": 28,
   "id": "3181b350",
   "metadata": {},
   "outputs": [
    {
     "data": {
      "text/plain": [
       "'по состоянию на «'"
      ]
     },
     "execution_count": 28,
     "metadata": {},
     "output_type": "execute_result"
    }
   ],
   "source": [
    "document.paragraphs[3].runs[0].text"
   ]
  },
  {
   "cell_type": "code",
   "execution_count": 24,
   "id": "ea889272",
   "metadata": {},
   "outputs": [
    {
     "name": "stdout",
     "output_type": "stream",
     "text": [
      "АКТ\n",
      "ПРИЕМА-ПЕРЕДАЧИ Информации между ОТДЕЛЕНИЕМ ПенсионнОГО фондА Российской Федерации и уполномоченным органом ИСПОЛНИТЕЛЬНОЙ ВЛАСТИ субъекта российской федерации в целях УСТАНОВЛЕНИЯ социальных доплат к пенсии \n",
      "\n",
      "по состоянию на «01» ноября 2022 г.\n",
      "\n",
      "\n",
      "\n",
      "Настоящий акт составлен о том, что Отделением Пенсионного фонда  Российской Федерации (государственное учреждение) по Ямало-Ненецкому автономному округу принят, а департаментом социальной защиты населения Ямало-Ненецкого автономного округа передан электронный файл \n",
      "по защищенному каналу связи VipNet от 01.11.2022, содержащий сведения о гражданах, которые имеют право на установление региональной социальной доплаты к пенсии по линии силовых структур (МВД) в беззаявительном порядке, в следующем составе:\n",
      "количество записей с учетными данными о гражданах на 39 человек.\n",
      "\n",
      "\n",
      "\n"
     ]
    }
   ],
   "source": [
    "for i in range(len(document.paragraphs)):\n",
    "    print(document.paragraphs[i].text)"
   ]
  },
  {
   "cell_type": "code",
   "execution_count": null,
   "id": "fca2d895",
   "metadata": {},
   "outputs": [],
   "source": []
  }
 ],
 "metadata": {
  "kernelspec": {
   "display_name": "Python 3",
   "language": "python",
   "name": "python3"
  },
  "language_info": {
   "codemirror_mode": {
    "name": "ipython",
    "version": 3
   },
   "file_extension": ".py",
   "mimetype": "text/x-python",
   "name": "python",
   "nbconvert_exporter": "python",
   "pygments_lexer": "ipython3",
   "version": "3.8.8"
  },
  "toc": {
   "base_numbering": 1,
   "nav_menu": {},
   "number_sections": true,
   "sideBar": true,
   "skip_h1_title": false,
   "title_cell": "Table of Contents",
   "title_sidebar": "Contents",
   "toc_cell": true,
   "toc_position": {
    "height": "calc(100% - 180px)",
    "left": "10px",
    "top": "150px",
    "width": "165px"
   },
   "toc_section_display": true,
   "toc_window_display": true
  },
  "varInspector": {
   "cols": {
    "lenName": 16,
    "lenType": 16,
    "lenVar": 40
   },
   "kernels_config": {
    "python": {
     "delete_cmd_postfix": "",
     "delete_cmd_prefix": "del ",
     "library": "var_list.py",
     "varRefreshCmd": "print(var_dic_list())"
    },
    "r": {
     "delete_cmd_postfix": ") ",
     "delete_cmd_prefix": "rm(",
     "library": "var_list.r",
     "varRefreshCmd": "cat(var_dic_list()) "
    }
   },
   "types_to_exclude": [
    "module",
    "function",
    "builtin_function_or_method",
    "instance",
    "_Feature"
   ],
   "window_display": false
  }
 },
 "nbformat": 4,
 "nbformat_minor": 5
}
